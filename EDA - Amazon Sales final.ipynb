{
 "cells": [
  {
   "cell_type": "code",
   "execution_count": 38,
   "id": "2e40fd87-bcb2-4f22-9ece-2a6e7884f55e",
   "metadata": {},
   "outputs": [],
   "source": [
    "import seaborn as sns"
   ]
  },
  {
   "cell_type": "code",
   "execution_count": 39,
   "id": "a36b29fd-a47b-45da-acef-038b8e7acc44",
   "metadata": {},
   "outputs": [],
   "source": [
    "import numpy as np"
   ]
  },
  {
   "cell_type": "code",
   "execution_count": 40,
   "id": "ec1eaa7f-97fc-43c1-879f-a81c1643cb6c",
   "metadata": {},
   "outputs": [],
   "source": [
    "import pandas as pd"
   ]
  },
  {
   "cell_type": "code",
   "execution_count": 41,
   "id": "fa0f5856-e589-4e61-aab1-c213c347e34b",
   "metadata": {},
   "outputs": [],
   "source": [
    "import matplotlib.pyplot as plt"
   ]
  },
  {
   "cell_type": "code",
   "execution_count": 42,
   "id": "26244ef5-58f2-457a-a527-c32a982cbef8",
   "metadata": {},
   "outputs": [
    {
     "data": {
      "text/plain": [
       "'C:\\\\Users\\\\Mrunal Parab\\\\Documents\\\\PGA 41'"
      ]
     },
     "execution_count": 42,
     "metadata": {},
     "output_type": "execute_result"
    }
   ],
   "source": [
    "import os\n",
    "os.getcwd()"
   ]
  },
  {
   "cell_type": "code",
   "execution_count": 43,
   "id": "e9983c62-cdf4-4a15-af8d-7aadee95ecd7",
   "metadata": {},
   "outputs": [
    {
     "data": {
      "text/html": [
       "<div>\n",
       "<style scoped>\n",
       "    .dataframe tbody tr th:only-of-type {\n",
       "        vertical-align: middle;\n",
       "    }\n",
       "\n",
       "    .dataframe tbody tr th {\n",
       "        vertical-align: top;\n",
       "    }\n",
       "\n",
       "    .dataframe thead th {\n",
       "        text-align: right;\n",
       "    }\n",
       "</style>\n",
       "<table border=\"1\" class=\"dataframe\">\n",
       "  <thead>\n",
       "    <tr style=\"text-align: right;\">\n",
       "      <th></th>\n",
       "      <th>Gender</th>\n",
       "      <th>Marital Status</th>\n",
       "      <th>Occupation</th>\n",
       "      <th>Monthly Income</th>\n",
       "      <th>Educational Qualifications</th>\n",
       "      <th>Family size</th>\n",
       "      <th>latitude</th>\n",
       "      <th>longitude</th>\n",
       "      <th>Pin code</th>\n",
       "      <th>Medium (P1)</th>\n",
       "      <th>...</th>\n",
       "      <th>Less Delivery time</th>\n",
       "      <th>High Quality of package</th>\n",
       "      <th>Number of calls</th>\n",
       "      <th>Politeness</th>\n",
       "      <th>Freshness</th>\n",
       "      <th>Temperature</th>\n",
       "      <th>Good Taste</th>\n",
       "      <th>Good Quantity</th>\n",
       "      <th>Output</th>\n",
       "      <th>Reviews</th>\n",
       "    </tr>\n",
       "    <tr>\n",
       "      <th>Age</th>\n",
       "      <th></th>\n",
       "      <th></th>\n",
       "      <th></th>\n",
       "      <th></th>\n",
       "      <th></th>\n",
       "      <th></th>\n",
       "      <th></th>\n",
       "      <th></th>\n",
       "      <th></th>\n",
       "      <th></th>\n",
       "      <th></th>\n",
       "      <th></th>\n",
       "      <th></th>\n",
       "      <th></th>\n",
       "      <th></th>\n",
       "      <th></th>\n",
       "      <th></th>\n",
       "      <th></th>\n",
       "      <th></th>\n",
       "      <th></th>\n",
       "      <th></th>\n",
       "    </tr>\n",
       "  </thead>\n",
       "  <tbody>\n",
       "    <tr>\n",
       "      <th>20</th>\n",
       "      <td>Female</td>\n",
       "      <td>Single</td>\n",
       "      <td>Student</td>\n",
       "      <td>No Income</td>\n",
       "      <td>Post Graduate</td>\n",
       "      <td>4</td>\n",
       "      <td>12.9766</td>\n",
       "      <td>77.5993</td>\n",
       "      <td>560001</td>\n",
       "      <td>Food delivery apps</td>\n",
       "      <td>...</td>\n",
       "      <td>Moderately Important</td>\n",
       "      <td>Moderately Important</td>\n",
       "      <td>Moderately Important</td>\n",
       "      <td>Moderately Important</td>\n",
       "      <td>Moderately Important</td>\n",
       "      <td>Moderately Important</td>\n",
       "      <td>Moderately Important</td>\n",
       "      <td>Moderately Important</td>\n",
       "      <td>Yes</td>\n",
       "      <td>Nil\\n</td>\n",
       "    </tr>\n",
       "    <tr>\n",
       "      <th>24</th>\n",
       "      <td>Female</td>\n",
       "      <td>Single</td>\n",
       "      <td>Student</td>\n",
       "      <td>Below Rs.10000</td>\n",
       "      <td>Graduate</td>\n",
       "      <td>3</td>\n",
       "      <td>12.9770</td>\n",
       "      <td>77.5773</td>\n",
       "      <td>560009</td>\n",
       "      <td>Food delivery apps</td>\n",
       "      <td>...</td>\n",
       "      <td>Very Important</td>\n",
       "      <td>Very Important</td>\n",
       "      <td>Very Important</td>\n",
       "      <td>Very Important</td>\n",
       "      <td>Very Important</td>\n",
       "      <td>Very Important</td>\n",
       "      <td>Very Important</td>\n",
       "      <td>Very Important</td>\n",
       "      <td>Yes</td>\n",
       "      <td>Nil</td>\n",
       "    </tr>\n",
       "    <tr>\n",
       "      <th>22</th>\n",
       "      <td>Male</td>\n",
       "      <td>Single</td>\n",
       "      <td>Student</td>\n",
       "      <td>Below Rs.10000</td>\n",
       "      <td>Post Graduate</td>\n",
       "      <td>3</td>\n",
       "      <td>12.9551</td>\n",
       "      <td>77.6593</td>\n",
       "      <td>560017</td>\n",
       "      <td>Food delivery apps</td>\n",
       "      <td>...</td>\n",
       "      <td>Important</td>\n",
       "      <td>Very Important</td>\n",
       "      <td>Moderately Important</td>\n",
       "      <td>Very Important</td>\n",
       "      <td>Very Important</td>\n",
       "      <td>Important</td>\n",
       "      <td>Very Important</td>\n",
       "      <td>Moderately Important</td>\n",
       "      <td>Yes</td>\n",
       "      <td>Many a times payment gateways are an issue, so...</td>\n",
       "    </tr>\n",
       "    <tr>\n",
       "      <th>22</th>\n",
       "      <td>Female</td>\n",
       "      <td>Single</td>\n",
       "      <td>Student</td>\n",
       "      <td>No Income</td>\n",
       "      <td>Graduate</td>\n",
       "      <td>6</td>\n",
       "      <td>12.9473</td>\n",
       "      <td>77.5616</td>\n",
       "      <td>560019</td>\n",
       "      <td>Food delivery apps</td>\n",
       "      <td>...</td>\n",
       "      <td>Very Important</td>\n",
       "      <td>Important</td>\n",
       "      <td>Moderately Important</td>\n",
       "      <td>Very Important</td>\n",
       "      <td>Very Important</td>\n",
       "      <td>Very Important</td>\n",
       "      <td>Very Important</td>\n",
       "      <td>Important</td>\n",
       "      <td>Yes</td>\n",
       "      <td>nil</td>\n",
       "    </tr>\n",
       "    <tr>\n",
       "      <th>22</th>\n",
       "      <td>Male</td>\n",
       "      <td>Single</td>\n",
       "      <td>Student</td>\n",
       "      <td>Below Rs.10000</td>\n",
       "      <td>Post Graduate</td>\n",
       "      <td>4</td>\n",
       "      <td>12.9850</td>\n",
       "      <td>77.5533</td>\n",
       "      <td>560010</td>\n",
       "      <td>Walk-in</td>\n",
       "      <td>...</td>\n",
       "      <td>Important</td>\n",
       "      <td>Important</td>\n",
       "      <td>Moderately Important</td>\n",
       "      <td>Important</td>\n",
       "      <td>Important</td>\n",
       "      <td>Important</td>\n",
       "      <td>Very Important</td>\n",
       "      <td>Very Important</td>\n",
       "      <td>Yes</td>\n",
       "      <td>NIL</td>\n",
       "    </tr>\n",
       "    <tr>\n",
       "      <th>...</th>\n",
       "      <td>...</td>\n",
       "      <td>...</td>\n",
       "      <td>...</td>\n",
       "      <td>...</td>\n",
       "      <td>...</td>\n",
       "      <td>...</td>\n",
       "      <td>...</td>\n",
       "      <td>...</td>\n",
       "      <td>...</td>\n",
       "      <td>...</td>\n",
       "      <td>...</td>\n",
       "      <td>...</td>\n",
       "      <td>...</td>\n",
       "      <td>...</td>\n",
       "      <td>...</td>\n",
       "      <td>...</td>\n",
       "      <td>...</td>\n",
       "      <td>...</td>\n",
       "      <td>...</td>\n",
       "      <td>...</td>\n",
       "      <td>...</td>\n",
       "    </tr>\n",
       "    <tr>\n",
       "      <th>23</th>\n",
       "      <td>Female</td>\n",
       "      <td>Single</td>\n",
       "      <td>Student</td>\n",
       "      <td>No Income</td>\n",
       "      <td>Post Graduate</td>\n",
       "      <td>2</td>\n",
       "      <td>12.9766</td>\n",
       "      <td>77.5993</td>\n",
       "      <td>560001</td>\n",
       "      <td>Food delivery apps</td>\n",
       "      <td>...</td>\n",
       "      <td>Important</td>\n",
       "      <td>Important</td>\n",
       "      <td>Important</td>\n",
       "      <td>Important</td>\n",
       "      <td>Important</td>\n",
       "      <td>Important</td>\n",
       "      <td>Important</td>\n",
       "      <td>Important</td>\n",
       "      <td>Yes</td>\n",
       "      <td>Nil</td>\n",
       "    </tr>\n",
       "    <tr>\n",
       "      <th>23</th>\n",
       "      <td>Female</td>\n",
       "      <td>Single</td>\n",
       "      <td>Student</td>\n",
       "      <td>No Income</td>\n",
       "      <td>Post Graduate</td>\n",
       "      <td>4</td>\n",
       "      <td>12.9854</td>\n",
       "      <td>77.7081</td>\n",
       "      <td>560048</td>\n",
       "      <td>Food delivery apps</td>\n",
       "      <td>...</td>\n",
       "      <td>Moderately Important</td>\n",
       "      <td>Very Important</td>\n",
       "      <td>Moderately Important</td>\n",
       "      <td>Moderately Important</td>\n",
       "      <td>Moderately Important</td>\n",
       "      <td>Moderately Important</td>\n",
       "      <td>Very Important</td>\n",
       "      <td>Very Important</td>\n",
       "      <td>Yes</td>\n",
       "      <td>Nil</td>\n",
       "    </tr>\n",
       "    <tr>\n",
       "      <th>22</th>\n",
       "      <td>Female</td>\n",
       "      <td>Single</td>\n",
       "      <td>Student</td>\n",
       "      <td>No Income</td>\n",
       "      <td>Post Graduate</td>\n",
       "      <td>5</td>\n",
       "      <td>12.9850</td>\n",
       "      <td>77.5533</td>\n",
       "      <td>560010</td>\n",
       "      <td>Food delivery apps</td>\n",
       "      <td>...</td>\n",
       "      <td>Important</td>\n",
       "      <td>Very Important</td>\n",
       "      <td>Important</td>\n",
       "      <td>Important</td>\n",
       "      <td>Very Important</td>\n",
       "      <td>Very Important</td>\n",
       "      <td>Very Important</td>\n",
       "      <td>Very Important</td>\n",
       "      <td>Yes</td>\n",
       "      <td>Nil</td>\n",
       "    </tr>\n",
       "    <tr>\n",
       "      <th>23</th>\n",
       "      <td>Male</td>\n",
       "      <td>Single</td>\n",
       "      <td>Student</td>\n",
       "      <td>Below Rs.10000</td>\n",
       "      <td>Post Graduate</td>\n",
       "      <td>2</td>\n",
       "      <td>12.9770</td>\n",
       "      <td>77.5773</td>\n",
       "      <td>560009</td>\n",
       "      <td>Food delivery apps</td>\n",
       "      <td>...</td>\n",
       "      <td>Important</td>\n",
       "      <td>Very Important</td>\n",
       "      <td>Important</td>\n",
       "      <td>Very Important</td>\n",
       "      <td>Very Important</td>\n",
       "      <td>Important</td>\n",
       "      <td>Very Important</td>\n",
       "      <td>Very Important</td>\n",
       "      <td>Yes</td>\n",
       "      <td>Language barrier is also one major issue. Mosl...</td>\n",
       "    </tr>\n",
       "    <tr>\n",
       "      <th>23</th>\n",
       "      <td>Male</td>\n",
       "      <td>Single</td>\n",
       "      <td>Student</td>\n",
       "      <td>No Income</td>\n",
       "      <td>Post Graduate</td>\n",
       "      <td>5</td>\n",
       "      <td>12.8988</td>\n",
       "      <td>77.5764</td>\n",
       "      <td>560078</td>\n",
       "      <td>Walk-in</td>\n",
       "      <td>...</td>\n",
       "      <td>Slightly Important</td>\n",
       "      <td>Unimportant</td>\n",
       "      <td>Slightly Important</td>\n",
       "      <td>Moderately Important</td>\n",
       "      <td>Moderately Important</td>\n",
       "      <td>Moderately Important</td>\n",
       "      <td>Moderately Important</td>\n",
       "      <td>Slightly Important</td>\n",
       "      <td>Yes</td>\n",
       "      <td>Nil</td>\n",
       "    </tr>\n",
       "  </tbody>\n",
       "</table>\n",
       "<p>388 rows × 54 columns</p>\n",
       "</div>"
      ],
      "text/plain": [
       "     Gender Marital Status Occupation  Monthly Income  \\\n",
       "Age                                                     \n",
       "20   Female         Single    Student       No Income   \n",
       "24   Female         Single    Student  Below Rs.10000   \n",
       "22     Male         Single    Student  Below Rs.10000   \n",
       "22   Female         Single    Student       No Income   \n",
       "22     Male         Single    Student  Below Rs.10000   \n",
       "..      ...            ...        ...             ...   \n",
       "23   Female         Single    Student       No Income   \n",
       "23   Female         Single    Student       No Income   \n",
       "22   Female         Single    Student       No Income   \n",
       "23     Male         Single    Student  Below Rs.10000   \n",
       "23     Male         Single    Student       No Income   \n",
       "\n",
       "    Educational Qualifications  Family size  latitude  longitude  Pin code  \\\n",
       "Age                                                                          \n",
       "20               Post Graduate            4   12.9766    77.5993    560001   \n",
       "24                    Graduate            3   12.9770    77.5773    560009   \n",
       "22               Post Graduate            3   12.9551    77.6593    560017   \n",
       "22                    Graduate            6   12.9473    77.5616    560019   \n",
       "22               Post Graduate            4   12.9850    77.5533    560010   \n",
       "..                         ...          ...       ...        ...       ...   \n",
       "23               Post Graduate            2   12.9766    77.5993    560001   \n",
       "23               Post Graduate            4   12.9854    77.7081    560048   \n",
       "22               Post Graduate            5   12.9850    77.5533    560010   \n",
       "23               Post Graduate            2   12.9770    77.5773    560009   \n",
       "23               Post Graduate            5   12.8988    77.5764    560078   \n",
       "\n",
       "            Medium (P1)  ...    Less Delivery time High Quality of package  \\\n",
       "Age                      ...                                                 \n",
       "20   Food delivery apps  ...  Moderately Important    Moderately Important   \n",
       "24   Food delivery apps  ...        Very Important          Very Important   \n",
       "22   Food delivery apps  ...             Important          Very Important   \n",
       "22   Food delivery apps  ...        Very Important               Important   \n",
       "22              Walk-in  ...             Important               Important   \n",
       "..                  ...  ...                   ...                     ...   \n",
       "23   Food delivery apps  ...             Important               Important   \n",
       "23   Food delivery apps  ...  Moderately Important          Very Important   \n",
       "22   Food delivery apps  ...             Important          Very Important   \n",
       "23   Food delivery apps  ...             Important          Very Important   \n",
       "23              Walk-in  ...    Slightly Important             Unimportant   \n",
       "\n",
       "          Number of calls            Politeness            Freshness   \\\n",
       "Age                                                                     \n",
       "20   Moderately Important  Moderately Important  Moderately Important   \n",
       "24         Very Important        Very Important        Very Important   \n",
       "22   Moderately Important        Very Important        Very Important   \n",
       "22   Moderately Important        Very Important        Very Important   \n",
       "22   Moderately Important             Important             Important   \n",
       "..                    ...                   ...                   ...   \n",
       "23              Important             Important             Important   \n",
       "23   Moderately Important  Moderately Important  Moderately Important   \n",
       "22              Important             Important        Very Important   \n",
       "23              Important        Very Important        Very Important   \n",
       "23     Slightly Important  Moderately Important  Moderately Important   \n",
       "\n",
       "              Temperature           Good Taste          Good Quantity Output  \\\n",
       "Age                                                                            \n",
       "20   Moderately Important  Moderately Important  Moderately Important    Yes   \n",
       "24         Very Important        Very Important        Very Important    Yes   \n",
       "22              Important        Very Important  Moderately Important    Yes   \n",
       "22         Very Important        Very Important             Important    Yes   \n",
       "22              Important        Very Important        Very Important    Yes   \n",
       "..                    ...                   ...                   ...    ...   \n",
       "23              Important             Important             Important    Yes   \n",
       "23   Moderately Important        Very Important        Very Important    Yes   \n",
       "22         Very Important        Very Important        Very Important    Yes   \n",
       "23              Important        Very Important        Very Important    Yes   \n",
       "23   Moderately Important  Moderately Important    Slightly Important    Yes   \n",
       "\n",
       "                                               Reviews  \n",
       "Age                                                     \n",
       "20                                               Nil\\n  \n",
       "24                                                 Nil  \n",
       "22   Many a times payment gateways are an issue, so...  \n",
       "22                                                 nil  \n",
       "22                                                 NIL  \n",
       "..                                                 ...  \n",
       "23                                                 Nil  \n",
       "23                                                 Nil  \n",
       "22                                                 Nil  \n",
       "23   Language barrier is also one major issue. Mosl...  \n",
       "23                                                 Nil  \n",
       "\n",
       "[388 rows x 54 columns]"
      ]
     },
     "execution_count": 43,
     "metadata": {},
     "output_type": "execute_result"
    }
   ],
   "source": [
    "zon =pd.read_csv(r\"C:\\Users\\Mrunal Parab\\OneDrive\\Documents\\onlinedeliverydata.csv\",header =0,index_col = 0)\n",
    "zon"
   ]
  },
  {
   "cell_type": "code",
   "execution_count": 45,
   "id": "d2c4e6e8-887d-4e89-a214-595f7f565df3",
   "metadata": {},
   "outputs": [
    {
     "name": "stdout",
     "output_type": "stream",
     "text": [
      "Requirement already satisfied: xlrd in c:\\users\\mrunal parab\\anaconda3\\lib\\site-packages (2.0.2)\n"
     ]
    }
   ],
   "source": [
    "! pip install xlrd"
   ]
  },
  {
   "cell_type": "code",
   "execution_count": 51,
   "id": "7b0e3f21-3995-48aa-a7e6-ddf10f2d722b",
   "metadata": {},
   "outputs": [],
   "source": [
    "pd.set_option(\"display.max_columns\",None)"
   ]
  },
  {
   "cell_type": "code",
   "execution_count": 53,
   "id": "f1930bd0-9b1f-4b88-b371-4d8bf10517ab",
   "metadata": {},
   "outputs": [],
   "source": [
    "import pandas as pd"
   ]
  },
  {
   "cell_type": "code",
   "execution_count": 54,
   "id": "33560e03-bbd5-47f2-9703-d7abd6d53dd6",
   "metadata": {},
   "outputs": [],
   "source": [
    "df = pd.read_csv(r\"C:\\Users\\Mrunal Parab\\OneDrive\\Documents\\onlinedeliverydata.csv\")"
   ]
  },
  {
   "cell_type": "code",
   "execution_count": 56,
   "id": "b6df8565-e51b-4707-88be-7814fda22a82",
   "metadata": {},
   "outputs": [],
   "source": [
    "df.to_csv(r\"C:\\Users\\Mrunal Parab\\OneDrive\\Documents\\onlinedeliverydata.csv\")"
   ]
  },
  {
   "cell_type": "code",
   "execution_count": 17,
   "id": "80469c10-bf82-400e-ace2-56f98b11f7b4",
   "metadata": {},
   "outputs": [
    {
     "data": {
      "text/plain": [
       "(388, 54)"
      ]
     },
     "execution_count": 17,
     "metadata": {},
     "output_type": "execute_result"
    }
   ],
   "source": [
    "zon.shape"
   ]
  },
  {
   "cell_type": "code",
   "execution_count": 18,
   "id": "9886c56f-281f-4142-81eb-d64e7543cd7c",
   "metadata": {},
   "outputs": [
    {
     "data": {
      "text/plain": [
       "2"
      ]
     },
     "execution_count": 18,
     "metadata": {},
     "output_type": "execute_result"
    }
   ],
   "source": [
    "zon.ndim"
   ]
  },
  {
   "cell_type": "code",
   "execution_count": 19,
   "id": "5119491b-ebe2-4278-b157-a6137e5ba6db",
   "metadata": {},
   "outputs": [
    {
     "data": {
      "text/html": [
       "<div>\n",
       "<style scoped>\n",
       "    .dataframe tbody tr th:only-of-type {\n",
       "        vertical-align: middle;\n",
       "    }\n",
       "\n",
       "    .dataframe tbody tr th {\n",
       "        vertical-align: top;\n",
       "    }\n",
       "\n",
       "    .dataframe thead th {\n",
       "        text-align: right;\n",
       "    }\n",
       "</style>\n",
       "<table border=\"1\" class=\"dataframe\">\n",
       "  <thead>\n",
       "    <tr style=\"text-align: right;\">\n",
       "      <th></th>\n",
       "      <th>Family size</th>\n",
       "      <th>latitude</th>\n",
       "      <th>longitude</th>\n",
       "      <th>Pin code</th>\n",
       "    </tr>\n",
       "  </thead>\n",
       "  <tbody>\n",
       "    <tr>\n",
       "      <th>count</th>\n",
       "      <td>388.000000</td>\n",
       "      <td>388.000000</td>\n",
       "      <td>388.000000</td>\n",
       "      <td>388.000000</td>\n",
       "    </tr>\n",
       "    <tr>\n",
       "      <th>mean</th>\n",
       "      <td>3.280928</td>\n",
       "      <td>12.972058</td>\n",
       "      <td>77.600160</td>\n",
       "      <td>560040.113402</td>\n",
       "    </tr>\n",
       "    <tr>\n",
       "      <th>std</th>\n",
       "      <td>1.351025</td>\n",
       "      <td>0.044489</td>\n",
       "      <td>0.051354</td>\n",
       "      <td>31.399609</td>\n",
       "    </tr>\n",
       "    <tr>\n",
       "      <th>min</th>\n",
       "      <td>1.000000</td>\n",
       "      <td>12.865200</td>\n",
       "      <td>77.484200</td>\n",
       "      <td>560001.000000</td>\n",
       "    </tr>\n",
       "    <tr>\n",
       "      <th>25%</th>\n",
       "      <td>2.000000</td>\n",
       "      <td>12.936900</td>\n",
       "      <td>77.565275</td>\n",
       "      <td>560010.750000</td>\n",
       "    </tr>\n",
       "    <tr>\n",
       "      <th>50%</th>\n",
       "      <td>3.000000</td>\n",
       "      <td>12.977000</td>\n",
       "      <td>77.592100</td>\n",
       "      <td>560033.500000</td>\n",
       "    </tr>\n",
       "    <tr>\n",
       "      <th>75%</th>\n",
       "      <td>4.000000</td>\n",
       "      <td>12.997025</td>\n",
       "      <td>77.630900</td>\n",
       "      <td>560068.000000</td>\n",
       "    </tr>\n",
       "    <tr>\n",
       "      <th>max</th>\n",
       "      <td>6.000000</td>\n",
       "      <td>13.102000</td>\n",
       "      <td>77.758200</td>\n",
       "      <td>560109.000000</td>\n",
       "    </tr>\n",
       "  </tbody>\n",
       "</table>\n",
       "</div>"
      ],
      "text/plain": [
       "       Family size    latitude   longitude       Pin code\n",
       "count   388.000000  388.000000  388.000000     388.000000\n",
       "mean      3.280928   12.972058   77.600160  560040.113402\n",
       "std       1.351025    0.044489    0.051354      31.399609\n",
       "min       1.000000   12.865200   77.484200  560001.000000\n",
       "25%       2.000000   12.936900   77.565275  560010.750000\n",
       "50%       3.000000   12.977000   77.592100  560033.500000\n",
       "75%       4.000000   12.997025   77.630900  560068.000000\n",
       "max       6.000000   13.102000   77.758200  560109.000000"
      ]
     },
     "execution_count": 19,
     "metadata": {},
     "output_type": "execute_result"
    }
   ],
   "source": [
    "zon.describe()"
   ]
  },
  {
   "cell_type": "code",
   "execution_count": 57,
   "id": "31cd26df-184f-4db2-af2c-21fb4a8aefad",
   "metadata": {},
   "outputs": [
    {
     "data": {
      "text/html": [
       "<div>\n",
       "<style scoped>\n",
       "    .dataframe tbody tr th:only-of-type {\n",
       "        vertical-align: middle;\n",
       "    }\n",
       "\n",
       "    .dataframe tbody tr th {\n",
       "        vertical-align: top;\n",
       "    }\n",
       "\n",
       "    .dataframe thead th {\n",
       "        text-align: right;\n",
       "    }\n",
       "</style>\n",
       "<table border=\"1\" class=\"dataframe\">\n",
       "  <thead>\n",
       "    <tr style=\"text-align: right;\">\n",
       "      <th></th>\n",
       "      <th>Age</th>\n",
       "      <th>Gender</th>\n",
       "      <th>Marital Status</th>\n",
       "      <th>Occupation</th>\n",
       "      <th>Monthly Income</th>\n",
       "      <th>Educational Qualifications</th>\n",
       "      <th>Family size</th>\n",
       "      <th>latitude</th>\n",
       "      <th>longitude</th>\n",
       "      <th>Pin code</th>\n",
       "      <th>Medium (P1)</th>\n",
       "      <th>Medium (P2)</th>\n",
       "      <th>Meal(P1)</th>\n",
       "      <th>Meal(P2)</th>\n",
       "      <th>Perference(P1)</th>\n",
       "      <th>Perference(P2)</th>\n",
       "      <th>Ease and convenient</th>\n",
       "      <th>Time saving</th>\n",
       "      <th>More restaurant choices</th>\n",
       "      <th>Easy Payment option</th>\n",
       "      <th>More Offers and Discount</th>\n",
       "      <th>Good Food quality</th>\n",
       "      <th>Good Tracking system</th>\n",
       "      <th>Self Cooking</th>\n",
       "      <th>Health Concern</th>\n",
       "      <th>Late Delivery</th>\n",
       "      <th>Poor Hygiene</th>\n",
       "      <th>Bad past experience</th>\n",
       "      <th>Unavailability</th>\n",
       "      <th>Unaffordable</th>\n",
       "      <th>Long delivery time</th>\n",
       "      <th>Delay of delivery person getting assigned</th>\n",
       "      <th>Delay of delivery person picking up food</th>\n",
       "      <th>Wrong order delivered</th>\n",
       "      <th>Missing item</th>\n",
       "      <th>Order placed by mistake</th>\n",
       "      <th>Influence of time</th>\n",
       "      <th>Order Time</th>\n",
       "      <th>Maximum wait time</th>\n",
       "      <th>Residence in busy location</th>\n",
       "      <th>Google Maps Accuracy</th>\n",
       "      <th>Good Road Condition</th>\n",
       "      <th>Low quantity low time</th>\n",
       "      <th>Delivery person ability</th>\n",
       "      <th>Influence of rating</th>\n",
       "      <th>Less Delivery time</th>\n",
       "      <th>High Quality of package</th>\n",
       "      <th>Number of calls</th>\n",
       "      <th>Politeness</th>\n",
       "      <th>Freshness</th>\n",
       "      <th>Temperature</th>\n",
       "      <th>Good Taste</th>\n",
       "      <th>Good Quantity</th>\n",
       "      <th>Output</th>\n",
       "      <th>Reviews</th>\n",
       "    </tr>\n",
       "  </thead>\n",
       "  <tbody>\n",
       "    <tr>\n",
       "      <th>0</th>\n",
       "      <td>20</td>\n",
       "      <td>Female</td>\n",
       "      <td>Single</td>\n",
       "      <td>Student</td>\n",
       "      <td>No Income</td>\n",
       "      <td>Post Graduate</td>\n",
       "      <td>4</td>\n",
       "      <td>12.9766</td>\n",
       "      <td>77.5993</td>\n",
       "      <td>560001</td>\n",
       "      <td>Food delivery apps</td>\n",
       "      <td>Web browser</td>\n",
       "      <td>Breakfast</td>\n",
       "      <td>Lunch</td>\n",
       "      <td>Non Veg foods (Lunch / Dinner)</td>\n",
       "      <td>Bakery items (snacks)</td>\n",
       "      <td>Neutral</td>\n",
       "      <td>Neutral</td>\n",
       "      <td>Neutral</td>\n",
       "      <td>Neutral</td>\n",
       "      <td>Neutral</td>\n",
       "      <td>Neutral</td>\n",
       "      <td>Neutral</td>\n",
       "      <td>Neutral</td>\n",
       "      <td>Neutral</td>\n",
       "      <td>Neutral</td>\n",
       "      <td>Neutral</td>\n",
       "      <td>Neutral</td>\n",
       "      <td>Neutral</td>\n",
       "      <td>Neutral</td>\n",
       "      <td>Agree</td>\n",
       "      <td>Agree</td>\n",
       "      <td>Agree</td>\n",
       "      <td>Agree</td>\n",
       "      <td>Agree</td>\n",
       "      <td>Agree</td>\n",
       "      <td>Yes</td>\n",
       "      <td>Weekend (Sat &amp; Sun)</td>\n",
       "      <td>30 minutes</td>\n",
       "      <td>Agree</td>\n",
       "      <td>Neutral</td>\n",
       "      <td>Neutral</td>\n",
       "      <td>Neutral</td>\n",
       "      <td>Neutral</td>\n",
       "      <td>Yes</td>\n",
       "      <td>Moderately Important</td>\n",
       "      <td>Moderately Important</td>\n",
       "      <td>Moderately Important</td>\n",
       "      <td>Moderately Important</td>\n",
       "      <td>Moderately Important</td>\n",
       "      <td>Moderately Important</td>\n",
       "      <td>Moderately Important</td>\n",
       "      <td>Moderately Important</td>\n",
       "      <td>Yes</td>\n",
       "      <td>Nil\\n</td>\n",
       "    </tr>\n",
       "    <tr>\n",
       "      <th>1</th>\n",
       "      <td>24</td>\n",
       "      <td>Female</td>\n",
       "      <td>Single</td>\n",
       "      <td>Student</td>\n",
       "      <td>Below Rs.10000</td>\n",
       "      <td>Graduate</td>\n",
       "      <td>3</td>\n",
       "      <td>12.9770</td>\n",
       "      <td>77.5773</td>\n",
       "      <td>560009</td>\n",
       "      <td>Food delivery apps</td>\n",
       "      <td>Web browser</td>\n",
       "      <td>Snacks</td>\n",
       "      <td>Dinner</td>\n",
       "      <td>Non Veg foods (Lunch / Dinner)</td>\n",
       "      <td>Veg foods (Breakfast / Lunch / Dinner)</td>\n",
       "      <td>Strongly agree</td>\n",
       "      <td>Strongly agree</td>\n",
       "      <td>Strongly agree</td>\n",
       "      <td>Strongly agree</td>\n",
       "      <td>Strongly agree</td>\n",
       "      <td>Neutral</td>\n",
       "      <td>Agree</td>\n",
       "      <td>Strongly agree</td>\n",
       "      <td>Strongly agree</td>\n",
       "      <td>Agree</td>\n",
       "      <td>Strongly agree</td>\n",
       "      <td>Strongly agree</td>\n",
       "      <td>Strongly agree</td>\n",
       "      <td>Strongly agree</td>\n",
       "      <td>Strongly agree</td>\n",
       "      <td>Strongly agree</td>\n",
       "      <td>Strongly agree</td>\n",
       "      <td>Strongly agree</td>\n",
       "      <td>Strongly agree</td>\n",
       "      <td>Strongly agree</td>\n",
       "      <td>Yes</td>\n",
       "      <td>Anytime (Mon-Sun)</td>\n",
       "      <td>30 minutes</td>\n",
       "      <td>Strongly Agree</td>\n",
       "      <td>Neutral</td>\n",
       "      <td>Disagree</td>\n",
       "      <td>Strongly disagree</td>\n",
       "      <td>Agree</td>\n",
       "      <td>Yes</td>\n",
       "      <td>Very Important</td>\n",
       "      <td>Very Important</td>\n",
       "      <td>Very Important</td>\n",
       "      <td>Very Important</td>\n",
       "      <td>Very Important</td>\n",
       "      <td>Very Important</td>\n",
       "      <td>Very Important</td>\n",
       "      <td>Very Important</td>\n",
       "      <td>Yes</td>\n",
       "      <td>Nil</td>\n",
       "    </tr>\n",
       "    <tr>\n",
       "      <th>2</th>\n",
       "      <td>22</td>\n",
       "      <td>Male</td>\n",
       "      <td>Single</td>\n",
       "      <td>Student</td>\n",
       "      <td>Below Rs.10000</td>\n",
       "      <td>Post Graduate</td>\n",
       "      <td>3</td>\n",
       "      <td>12.9551</td>\n",
       "      <td>77.6593</td>\n",
       "      <td>560017</td>\n",
       "      <td>Food delivery apps</td>\n",
       "      <td>Direct call</td>\n",
       "      <td>Lunch</td>\n",
       "      <td>Snacks</td>\n",
       "      <td>Non Veg foods (Lunch / Dinner)</td>\n",
       "      <td>Ice cream / Cool drinks</td>\n",
       "      <td>Strongly agree</td>\n",
       "      <td>Strongly agree</td>\n",
       "      <td>Strongly agree</td>\n",
       "      <td>Neutral</td>\n",
       "      <td>Neutral</td>\n",
       "      <td>Disagree</td>\n",
       "      <td>Neutral</td>\n",
       "      <td>Disagree</td>\n",
       "      <td>Neutral</td>\n",
       "      <td>Neutral</td>\n",
       "      <td>Agree</td>\n",
       "      <td>Agree</td>\n",
       "      <td>Agree</td>\n",
       "      <td>Agree</td>\n",
       "      <td>Agree</td>\n",
       "      <td>Agree</td>\n",
       "      <td>Agree</td>\n",
       "      <td>Strongly agree</td>\n",
       "      <td>Agree</td>\n",
       "      <td>Neutral</td>\n",
       "      <td>Yes</td>\n",
       "      <td>Anytime (Mon-Sun)</td>\n",
       "      <td>45 minutes</td>\n",
       "      <td>Agree</td>\n",
       "      <td>Strongly Agree</td>\n",
       "      <td>Neutral</td>\n",
       "      <td>Neutral</td>\n",
       "      <td>Agree</td>\n",
       "      <td>Yes</td>\n",
       "      <td>Important</td>\n",
       "      <td>Very Important</td>\n",
       "      <td>Moderately Important</td>\n",
       "      <td>Very Important</td>\n",
       "      <td>Very Important</td>\n",
       "      <td>Important</td>\n",
       "      <td>Very Important</td>\n",
       "      <td>Moderately Important</td>\n",
       "      <td>Yes</td>\n",
       "      <td>Many a times payment gateways are an issue, so...</td>\n",
       "    </tr>\n",
       "    <tr>\n",
       "      <th>3</th>\n",
       "      <td>22</td>\n",
       "      <td>Female</td>\n",
       "      <td>Single</td>\n",
       "      <td>Student</td>\n",
       "      <td>No Income</td>\n",
       "      <td>Graduate</td>\n",
       "      <td>6</td>\n",
       "      <td>12.9473</td>\n",
       "      <td>77.5616</td>\n",
       "      <td>560019</td>\n",
       "      <td>Food delivery apps</td>\n",
       "      <td>Walk-in</td>\n",
       "      <td>Snacks</td>\n",
       "      <td>Dinner</td>\n",
       "      <td>Veg foods (Breakfast / Lunch / Dinner)</td>\n",
       "      <td>Bakery items (snacks)</td>\n",
       "      <td>Agree</td>\n",
       "      <td>Agree</td>\n",
       "      <td>Strongly agree</td>\n",
       "      <td>Agree</td>\n",
       "      <td>Strongly agree</td>\n",
       "      <td>Agree</td>\n",
       "      <td>Agree</td>\n",
       "      <td>Agree</td>\n",
       "      <td>Strongly agree</td>\n",
       "      <td>Neutral</td>\n",
       "      <td>Agree</td>\n",
       "      <td>Disagree</td>\n",
       "      <td>Disagree</td>\n",
       "      <td>Neutral</td>\n",
       "      <td>Agree</td>\n",
       "      <td>Agree</td>\n",
       "      <td>Agree</td>\n",
       "      <td>Disagree</td>\n",
       "      <td>Disagree</td>\n",
       "      <td>Neutral</td>\n",
       "      <td>Yes</td>\n",
       "      <td>Anytime (Mon-Sun)</td>\n",
       "      <td>30 minutes</td>\n",
       "      <td>Disagree</td>\n",
       "      <td>Agree</td>\n",
       "      <td>Agree</td>\n",
       "      <td>Neutral</td>\n",
       "      <td>Agree</td>\n",
       "      <td>Yes</td>\n",
       "      <td>Very Important</td>\n",
       "      <td>Important</td>\n",
       "      <td>Moderately Important</td>\n",
       "      <td>Very Important</td>\n",
       "      <td>Very Important</td>\n",
       "      <td>Very Important</td>\n",
       "      <td>Very Important</td>\n",
       "      <td>Important</td>\n",
       "      <td>Yes</td>\n",
       "      <td>nil</td>\n",
       "    </tr>\n",
       "    <tr>\n",
       "      <th>4</th>\n",
       "      <td>22</td>\n",
       "      <td>Male</td>\n",
       "      <td>Single</td>\n",
       "      <td>Student</td>\n",
       "      <td>Below Rs.10000</td>\n",
       "      <td>Post Graduate</td>\n",
       "      <td>4</td>\n",
       "      <td>12.9850</td>\n",
       "      <td>77.5533</td>\n",
       "      <td>560010</td>\n",
       "      <td>Walk-in</td>\n",
       "      <td>Direct call</td>\n",
       "      <td>Lunch</td>\n",
       "      <td>Dinner</td>\n",
       "      <td>Non Veg foods (Lunch / Dinner)</td>\n",
       "      <td>Veg foods (Breakfast / Lunch / Dinner)</td>\n",
       "      <td>Agree</td>\n",
       "      <td>Agree</td>\n",
       "      <td>Agree</td>\n",
       "      <td>Agree</td>\n",
       "      <td>Agree</td>\n",
       "      <td>Neutral</td>\n",
       "      <td>Neutral</td>\n",
       "      <td>Agree</td>\n",
       "      <td>Strongly agree</td>\n",
       "      <td>Strongly agree</td>\n",
       "      <td>Agree</td>\n",
       "      <td>Strongly agree</td>\n",
       "      <td>Agree</td>\n",
       "      <td>Disagree</td>\n",
       "      <td>Strongly agree</td>\n",
       "      <td>Strongly agree</td>\n",
       "      <td>Neutral</td>\n",
       "      <td>Neutral</td>\n",
       "      <td>Neutral</td>\n",
       "      <td>Disagree</td>\n",
       "      <td>Yes</td>\n",
       "      <td>Weekend (Sat &amp; Sun)</td>\n",
       "      <td>30 minutes</td>\n",
       "      <td>Agree</td>\n",
       "      <td>Agree</td>\n",
       "      <td>Agree</td>\n",
       "      <td>Agree</td>\n",
       "      <td>Agree</td>\n",
       "      <td>Yes</td>\n",
       "      <td>Important</td>\n",
       "      <td>Important</td>\n",
       "      <td>Moderately Important</td>\n",
       "      <td>Important</td>\n",
       "      <td>Important</td>\n",
       "      <td>Important</td>\n",
       "      <td>Very Important</td>\n",
       "      <td>Very Important</td>\n",
       "      <td>Yes</td>\n",
       "      <td>NIL</td>\n",
       "    </tr>\n",
       "  </tbody>\n",
       "</table>\n",
       "</div>"
      ],
      "text/plain": [
       "   Age  Gender Marital Status Occupation  Monthly Income  \\\n",
       "0   20  Female         Single    Student       No Income   \n",
       "1   24  Female         Single    Student  Below Rs.10000   \n",
       "2   22    Male         Single    Student  Below Rs.10000   \n",
       "3   22  Female         Single    Student       No Income   \n",
       "4   22    Male         Single    Student  Below Rs.10000   \n",
       "\n",
       "  Educational Qualifications  Family size  latitude  longitude  Pin code  \\\n",
       "0              Post Graduate            4   12.9766    77.5993    560001   \n",
       "1                   Graduate            3   12.9770    77.5773    560009   \n",
       "2              Post Graduate            3   12.9551    77.6593    560017   \n",
       "3                   Graduate            6   12.9473    77.5616    560019   \n",
       "4              Post Graduate            4   12.9850    77.5533    560010   \n",
       "\n",
       "          Medium (P1)   Medium (P2)   Meal(P1) Meal(P2)  \\\n",
       "0  Food delivery apps   Web browser  Breakfast    Lunch   \n",
       "1  Food delivery apps   Web browser     Snacks   Dinner   \n",
       "2  Food delivery apps   Direct call      Lunch   Snacks   \n",
       "3  Food delivery apps       Walk-in     Snacks   Dinner   \n",
       "4             Walk-in   Direct call      Lunch   Dinner   \n",
       "\n",
       "                           Perference(P1)  \\\n",
       "0          Non Veg foods (Lunch / Dinner)   \n",
       "1          Non Veg foods (Lunch / Dinner)   \n",
       "2          Non Veg foods (Lunch / Dinner)   \n",
       "3  Veg foods (Breakfast / Lunch / Dinner)   \n",
       "4          Non Veg foods (Lunch / Dinner)   \n",
       "\n",
       "                            Perference(P2) Ease and convenient  \\\n",
       "0                    Bakery items (snacks)             Neutral   \n",
       "1   Veg foods (Breakfast / Lunch / Dinner)      Strongly agree   \n",
       "2                  Ice cream / Cool drinks      Strongly agree   \n",
       "3                    Bakery items (snacks)               Agree   \n",
       "4   Veg foods (Breakfast / Lunch / Dinner)               Agree   \n",
       "\n",
       "      Time saving More restaurant choices Easy Payment option  \\\n",
       "0         Neutral                 Neutral             Neutral   \n",
       "1  Strongly agree          Strongly agree      Strongly agree   \n",
       "2  Strongly agree          Strongly agree             Neutral   \n",
       "3           Agree          Strongly agree               Agree   \n",
       "4           Agree                   Agree               Agree   \n",
       "\n",
       "  More Offers and Discount Good Food quality Good Tracking system  \\\n",
       "0                  Neutral           Neutral              Neutral   \n",
       "1           Strongly agree           Neutral                Agree   \n",
       "2                  Neutral          Disagree              Neutral   \n",
       "3           Strongly agree             Agree                Agree   \n",
       "4                    Agree           Neutral              Neutral   \n",
       "\n",
       "     Self Cooking  Health Concern   Late Delivery    Poor Hygiene  \\\n",
       "0         Neutral         Neutral         Neutral         Neutral   \n",
       "1  Strongly agree  Strongly agree           Agree  Strongly agree   \n",
       "2        Disagree         Neutral         Neutral           Agree   \n",
       "3           Agree  Strongly agree         Neutral           Agree   \n",
       "4           Agree  Strongly agree  Strongly agree           Agree   \n",
       "\n",
       "  Bad past experience  Unavailability    Unaffordable Long delivery time  \\\n",
       "0             Neutral         Neutral         Neutral              Agree   \n",
       "1      Strongly agree  Strongly agree  Strongly agree     Strongly agree   \n",
       "2               Agree           Agree           Agree              Agree   \n",
       "3            Disagree        Disagree         Neutral              Agree   \n",
       "4      Strongly agree           Agree        Disagree     Strongly agree   \n",
       "\n",
       "  Delay of delivery person getting assigned  \\\n",
       "0                                     Agree   \n",
       "1                            Strongly agree   \n",
       "2                                     Agree   \n",
       "3                                     Agree   \n",
       "4                            Strongly agree   \n",
       "\n",
       "  Delay of delivery person picking up food Wrong order delivered  \\\n",
       "0                                    Agree                 Agree   \n",
       "1                           Strongly agree        Strongly agree   \n",
       "2                                    Agree        Strongly agree   \n",
       "3                                    Agree              Disagree   \n",
       "4                                  Neutral               Neutral   \n",
       "\n",
       "     Missing item Order placed by mistake Influence of time  \\\n",
       "0           Agree                   Agree               Yes   \n",
       "1  Strongly agree          Strongly agree               Yes   \n",
       "2           Agree                 Neutral               Yes   \n",
       "3        Disagree                 Neutral               Yes   \n",
       "4         Neutral                Disagree               Yes   \n",
       "\n",
       "            Order Time Maximum wait time Residence in busy location  \\\n",
       "0  Weekend (Sat & Sun)        30 minutes                      Agree   \n",
       "1    Anytime (Mon-Sun)        30 minutes             Strongly Agree   \n",
       "2    Anytime (Mon-Sun)        45 minutes                      Agree   \n",
       "3    Anytime (Mon-Sun)        30 minutes                   Disagree   \n",
       "4  Weekend (Sat & Sun)        30 minutes                      Agree   \n",
       "\n",
       "  Google Maps Accuracy Good Road Condition Low quantity low time  \\\n",
       "0              Neutral             Neutral               Neutral   \n",
       "1              Neutral            Disagree     Strongly disagree   \n",
       "2       Strongly Agree             Neutral               Neutral   \n",
       "3                Agree               Agree               Neutral   \n",
       "4                Agree               Agree                 Agree   \n",
       "\n",
       "  Delivery person ability Influence of rating    Less Delivery time  \\\n",
       "0                 Neutral                 Yes  Moderately Important   \n",
       "1                   Agree                 Yes        Very Important   \n",
       "2                   Agree                 Yes             Important   \n",
       "3                   Agree                 Yes        Very Important   \n",
       "4                   Agree                 Yes             Important   \n",
       "\n",
       "  High Quality of package       Number of calls            Politeness  \\\n",
       "0    Moderately Important  Moderately Important  Moderately Important   \n",
       "1          Very Important        Very Important        Very Important   \n",
       "2          Very Important  Moderately Important        Very Important   \n",
       "3               Important  Moderately Important        Very Important   \n",
       "4               Important  Moderately Important             Important   \n",
       "\n",
       "             Freshness            Temperature           Good Taste   \\\n",
       "0  Moderately Important  Moderately Important  Moderately Important   \n",
       "1        Very Important        Very Important        Very Important   \n",
       "2        Very Important             Important        Very Important   \n",
       "3        Very Important        Very Important        Very Important   \n",
       "4             Important             Important        Very Important   \n",
       "\n",
       "          Good Quantity Output  \\\n",
       "0  Moderately Important    Yes   \n",
       "1        Very Important    Yes   \n",
       "2  Moderately Important    Yes   \n",
       "3             Important    Yes   \n",
       "4        Very Important    Yes   \n",
       "\n",
       "                                             Reviews  \n",
       "0                                              Nil\\n  \n",
       "1                                                Nil  \n",
       "2  Many a times payment gateways are an issue, so...  \n",
       "3                                                nil  \n",
       "4                                                NIL  "
      ]
     },
     "execution_count": 57,
     "metadata": {},
     "output_type": "execute_result"
    }
   ],
   "source": [
    "df.head()"
   ]
  },
  {
   "cell_type": "code",
   "execution_count": 59,
   "id": "225da252-c6d9-4df5-bd60-962e5c87334d",
   "metadata": {},
   "outputs": [
    {
     "name": "stdout",
     "output_type": "stream",
     "text": [
      "Index(['Age', 'Gender', 'Marital Status', 'Occupation', 'Monthly Income',\n",
      "       'Educational Qualifications', 'Family size', 'latitude', 'longitude',\n",
      "       'Pin code', 'Medium (P1)', 'Medium (P2)', 'Meal(P1)', 'Meal(P2)',\n",
      "       'Perference(P1)', 'Perference(P2)', 'Ease and convenient',\n",
      "       'Time saving', 'More restaurant choices', 'Easy Payment option',\n",
      "       'More Offers and Discount', 'Good Food quality', 'Good Tracking system',\n",
      "       'Self Cooking', 'Health Concern', 'Late Delivery', 'Poor Hygiene',\n",
      "       'Bad past experience', 'Unavailability', 'Unaffordable',\n",
      "       'Long delivery time', 'Delay of delivery person getting assigned',\n",
      "       'Delay of delivery person picking up food', 'Wrong order delivered',\n",
      "       'Missing item', 'Order placed by mistake', 'Influence of time',\n",
      "       'Order Time', 'Maximum wait time', 'Residence in busy location',\n",
      "       'Google Maps Accuracy', 'Good Road Condition', 'Low quantity low time',\n",
      "       'Delivery person ability', 'Influence of rating', 'Less Delivery time',\n",
      "       'High Quality of package', 'Number of calls', 'Politeness',\n",
      "       'Freshness ', 'Temperature', 'Good Taste ', 'Good Quantity', 'Output',\n",
      "       'Reviews'],\n",
      "      dtype='object')\n"
     ]
    }
   ],
   "source": [
    "print(df.columns)\n"
   ]
  },
  {
   "cell_type": "code",
   "execution_count": 62,
   "id": "e780b69d-822b-4860-b567-f31afe574171",
   "metadata": {},
   "outputs": [
    {
     "name": "stderr",
     "output_type": "stream",
     "text": [
      "C:\\Users\\Mrunal Parab\\anaconda3\\Lib\\site-packages\\seaborn\\_oldcore.py:1119: FutureWarning: use_inf_as_na option is deprecated and will be removed in a future version. Convert inf values to NaN before operating instead.\n",
      "  with pd.option_context('mode.use_inf_as_na', True):\n"
     ]
    },
    {
     "data": {
      "image/png": "[encoded data removed]",
      "text/plain": [
       "<Figure size 640x480 with 1 Axes>"
      ]
     },
     "metadata": {},
     "output_type": "display_data"
    }
   ],
   "source": [
    "# 1. How are the respondents distributed by age?\n",
    "\n",
    "sns.histplot(df['Age'], bins=15, kde=True)\n",
    "plt.title('Age Distribution of Respondents')\n",
    "plt.show()\n",
    "\n"
   ]
  },
  {
   "cell_type": "code",
   "execution_count": 63,
   "id": "36835746-3e49-441d-aa4d-b2a72cf8946a",
   "metadata": {},
   "outputs": [
    {
     "data": {
      "image/png": "[encoded data removed]",
      "text/plain": [
       "<Figure size 640x480 with 1 Axes>"
      ]
     },
     "metadata": {},
     "output_type": "display_data"
    }
   ],
   "source": [
    "# 2. How many male and female respondents are there?\n",
    "sns.countplot(x='Gender', data=df)\n",
    "plt.title('Gender Distribution')\n",
    "plt.show()\n"
   ]
  },
  {
   "cell_type": "code",
   "execution_count": 116,
   "id": "16331ef4-2d8e-4205-9405-2bb72b3e3191",
   "metadata": {},
   "outputs": [
    {
     "data": {
      "image/png": "[encoded data removed]",
      "text/plain": [
       "<Figure size 640x480 with 1 Axes>"
      ]
     },
     "metadata": {},
     "output_type": "display_data"
    }
   ],
   "source": [
    "# 3.  How does occupation influence food ordering behavior?\n",
    "\n",
    "\n",
    "sns.boxplot(x='Age', y='Maximum wait time', data=df, palette='Set3')\n",
    "plt.title('Wait Time by Occupation')\n",
    "plt.xticks(rotation=45)\n",
    "plt.ylabel('Maximum Wait Time (minutes)')\n",
    "plt.tight_layout()\n",
    "plt.show()"
   ]
  },
  {
   "cell_type": "code",
   "execution_count": 71,
   "id": "67a5e7d1-5946-47e9-8855-5667ad2a4a14",
   "metadata": {},
   "outputs": [
    {
     "data": {
      "image/png": "[encoded data removed]",
      "text/plain": [
       "<Figure size 600x600 with 1 Axes>"
      ]
     },
     "metadata": {},
     "output_type": "display_data"
    }
   ],
   "source": [
    "# 4. How is monthly income distributed?\n",
    "\n",
    "income_counts = df['Monthly Income'].value_counts()\n",
    "\n",
    "plt.figure(figsize=(6,6))\n",
    "plt.pie(\n",
    "    income_counts, \n",
    "    labels=income_counts.index, \n",
    "    autopct='%1.1f%%', \n",
    "    startangle=90, \n",
    "    colors=sns.color_palette('pastel')\n",
    ")\n",
    "plt.title('Monthly Income Distribution')\n",
    "plt.show()\n",
    "\n"
   ]
  },
  {
   "cell_type": "markdown",
   "id": "e368c711-2771-41f6-b606-acec5499f3f5",
   "metadata": {},
   "source": [
    "# 5. Do respondents who value “Ease and convenience” also prefer “Easy Payment options”?\n",
    "\n",
    "\n",
    "sns.countplot(x='Ease and convenient', hue='Easy Payment option', data=df, palette='Set2')\n",
    "plt.title('Ease & Convenience vs Easy Payment Preference')\n",
    "plt.xlabel('Ease and Convenient')\n",
    "plt.ylabel('Number of Respondents')\n",
    "plt.tight_layout()\n",
    "plt.show()\n"
   ]
  },
  {
   "cell_type": "code",
   "execution_count": 74,
   "id": "63ecfdad-712c-45d6-a2ed-ef9f80ace56f",
   "metadata": {},
   "outputs": [
    {
     "data": {
      "image/png": "[encoded data removed]",
      "text/plain": [
       "<Figure size 640x480 with 1 Axes>"
      ]
     },
     "metadata": {},
     "output_type": "display_data"
    }
   ],
   "source": [
    "# 6. What are the most preferred meals among respondents?\n",
    "\n",
    "sns.countplot(x='Meal(P1)', data=df)\n",
    "plt.title('Primary Meal Preference')\n",
    "plt.show()\n"
   ]
  },
  {
   "cell_type": "code",
   "execution_count": 75,
   "id": "793ba77e-0bcc-466b-9ce0-9f7bd68b40f9",
   "metadata": {},
   "outputs": [
    {
     "data": {
      "image/png": "[encoded data removed]",
      "text/plain": [
       "<Figure size 640x480 with 1 Axes>"
      ]
     },
     "metadata": {},
     "output_type": "display_data"
    }
   ],
   "source": [
    "# 7. How are age and monthly income related?\n",
    "\n",
    "sns.scatterplot(x='Age', y='Monthly Income', data=df)\n",
    "plt.title('Age vs Monthly Income')\n",
    "plt.show()\n"
   ]
  },
  {
   "cell_type": "code",
   "execution_count": 76,
   "id": "4e11358e-9d2a-495d-9e21-a61f21b9dd0e",
   "metadata": {},
   "outputs": [
    {
     "name": "stderr",
     "output_type": "stream",
     "text": [
      "C:\\Users\\Mrunal Parab\\AppData\\Local\\Temp\\ipykernel_2552\\683411776.py:3: FutureWarning: \n",
      "\n",
      "The `ci` parameter is deprecated. Use `errorbar=None` for the same effect.\n",
      "\n",
      "  sns.barplot(x='Family size', y='Age', hue='Gender', data=df, ci=None)\n"
     ]
    },
    {
     "data": {
      "image/png": "[encoded data removed]",
      "text/plain": [
       "<Figure size 640x480 with 1 Axes>"
      ]
     },
     "metadata": {},
     "output_type": "display_data"
    }
   ],
   "source": [
    "# 8. How does Family Size vary by Gender?\n",
    "\n",
    "sns.barplot(x='Family size', y='Age', hue='Gender', data=df, ci=None)\n",
    "plt.title('Family Size Comparison by Gender')\n",
    "plt.show()\n"
   ]
  },
  {
   "cell_type": "code",
   "execution_count": 80,
   "id": "3c65d980-7bf4-4ea9-83e6-df62ce68e182",
   "metadata": {},
   "outputs": [
    {
     "data": {
      "image/png": "[encoded data removed]",
      "text/plain": [
       "<Figure size 640x480 with 1 Axes>"
      ]
     },
     "metadata": {},
     "output_type": "display_data"
    }
   ],
   "source": [
    "# 9. How does the number of orders vary by Order Time?\n",
    "\n",
    "order_counts = df['Order Time'].value_counts().sort_index()\n",
    "plt.plot(order_counts.index, order_counts.values, marker='o', color='blue')\n",
    "plt.title('Number of Orders by Order Time')\n",
    "plt.xlabel('Order Time')\n",
    "plt.ylabel('Number of Orders')\n",
    "plt.grid(True)\n",
    "plt.show()\n",
    "\n",
    "\n"
   ]
  },
  {
   "cell_type": "code",
   "execution_count": 87,
   "id": "4f430026-5304-48a3-83f6-309102ff96e1",
   "metadata": {},
   "outputs": [],
   "source": [
    "import matplotlib.pyplot as plt"
   ]
  },
  {
   "cell_type": "code",
   "execution_count": 102,
   "id": "0bdcbb51-caac-4703-86e1-df21751f2943",
   "metadata": {
    "scrolled": true
   },
   "outputs": [
    {
     "data": {
      "application/vnd.plotly.v1+json": {
       "config": {
        "plotlyServerURL": "https://plot.ly"
       },
       "data": [
        {
         "alignmentgroup": "True",
         "hovertemplate": "Occupation=%{x}<br>Family size=%{y}<extra></extra>",
         "legendgroup": "",
         "marker": {
          "color": "#636efa"
         },
         "name": "",
         "notched": false,
         "offsetgroup": "",
         "orientation": "v",
         "showlegend": false,
         "type": "box",
         "x": [
          "Student",
          "Student",
          "Student",
          "Student",
          "Student",
          "Employee",
          "Student",
          "Student",
          "Student",
          "Student",
          "Student",
          "Student",
          "Student",
          "Student",
          "Self Employeed",
          "Student",
          "Employee",
          "Student",
          "Student",
          "Student",
          "Student",
          "Student",
          "Student",
          "Student",
          "Student",
          "Student",
          "Student",
          "Student",
          "Employee",
          "Student",
          "Employee",
          "Student",
          "Employee",
          "Student",
          "Student",
          "Student",
          "Student",
          "House wife",
          "Student",
          "Student",
          "Self Employeed",
          "Student",
          "Student",
          "Student",
          "Student",
          "Self Employeed",
          "Student",
          "Student",
          "Student",
          "Student",
          "Student",
          "Student",
          "Student",
          "Student",
          "Student",
          "Student",
          "Student",
          "Student",
          "Employee",
          "Student",
          "Student",
          "Student",
          "Student",
          "Student",
          "Student",
          "Student",
          "Employee",
          "Student",
          "Student",
          "Employee",
          "Student",
          "Student",
          "Student",
          "Student",
          "Student",
          "Student",
          "Student",
          "Student",
          "Student",
          "Student",
          "Student",
          "Student",
          "Student",
          "Student",
          "Student",
          "Student",
          "Student",
          "Student",
          "Student",
          "Self Employeed",
          "Employee",
          "Self Employeed",
          "Student",
          "Student",
          "Student",
          "Student",
          "Student",
          "Student",
          "Employee",
          "House wife",
          "Student",
          "Student",
          "Employee",
          "Student",
          "Employee",
          "Employee",
          "Employee",
          "Student",
          "Employee",
          "Student",
          "Student",
          "Student",
          "Student",
          "Student",
          "Employee",
          "Employee",
          "House wife",
          "Self Employeed",
          "Employee",
          "Employee",
          "Self Employeed",
          "Self Employeed",
          "Self Employeed",
          "Employee",
          "Self Employeed",
          "Self Employeed",
          "Student",
          "Student",
          "Student",
          "Student",
          "Employee",
          "Employee",
          "Student",
          "Student",
          "Student",
          "Employee",
          "Self Employeed",
          "Employee",
          "Employee",
          "Student",
          "Student",
          "Student",
          "Employee",
          "House wife",
          "Student",
          "Employee",
          "Student",
          "Student",
          "Employee",
          "Student",
          "Student",
          "Student",
          "Student",
          "Student",
          "Self Employeed",
          "Student",
          "Employee",
          "House wife",
          "Employee",
          "Student",
          "Student",
          "Employee",
          "Employee",
          "Employee",
          "Employee",
          "Employee",
          "Student",
          "Student",
          "Self Employeed",
          "Student",
          "Student",
          "Student",
          "Employee",
          "Student",
          "Employee",
          "Employee",
          "Student",
          "Self Employeed",
          "Employee",
          "Self Employeed",
          "Employee",
          "Student",
          "Employee",
          "Student",
          "House wife",
          "Employee",
          "Student",
          "Employee",
          "Employee",
          "Self Employeed",
          "Student",
          "Employee",
          "Employee",
          "Employee",
          "Self Employeed",
          "Student",
          "Student",
          "Employee",
          "House wife",
          "Student",
          "Student",
          "Student",
          "Employee",
          "Employee",
          "Student",
          "Student",
          "Employee",
          "Student",
          "Self Employeed",
          "Employee",
          "Self Employeed",
          "Self Employeed",
          "Student",
          "Student",
          "Employee",
          "Self Employeed",
          "Employee",
          "Employee",
          "House wife",
          "Self Employeed",
          "Student",
          "Student",
          "Employee",
          "Employee",
          "Student",
          "Self Employeed",
          "Student",
          "Student",
          "Self Employeed",
          "Employee",
          "Self Employeed",
          "Student",
          "Self Employeed",
          "Self Employeed",
          "Employee",
          "Employee",
          "Student",
          "Student",
          "Employee",
          "Student",
          "Employee",
          "Student",
          "Employee",
          "Student",
          "Self Employeed",
          "Student",
          "Employee",
          "Self Employeed",
          "Employee",
          "Employee",
          "Employee",
          "Student",
          "Student",
          "Employee",
          "House wife",
          "Self Employeed",
          "Student",
          "Self Employeed",
          "Student",
          "Employee",
          "Self Employeed",
          "Employee",
          "Student",
          "Employee",
          "Self Employeed",
          "Employee",
          "Employee",
          "Employee",
          "Student",
          "Employee",
          "Employee",
          "Employee",
          "Self Employeed",
          "Employee",
          "Student",
          "Student",
          "Employee",
          "Student",
          "Employee",
          "Employee",
          "Student",
          "Student",
          "Student",
          "Employee",
          "Employee",
          "Student",
          "Student",
          "Employee",
          "Student",
          "Student",
          "Self Employeed",
          "Employee",
          "Student",
          "Employee",
          "Employee",
          "Student",
          "Student",
          "Employee",
          "Employee",
          "Employee",
          "Student",
          "Student",
          "Student",
          "Employee",
          "Student",
          "Student",
          "Student",
          "Student",
          "Student",
          "Student",
          "Employee",
          "Student",
          "Self Employeed",
          "Student",
          "Student",
          "Self Employeed",
          "Employee",
          "Self Employeed",
          "Student",
          "Self Employeed",
          "Self Employeed",
          "Employee",
          "Employee",
          "Student",
          "Student",
          "Employee",
          "Student",
          "Employee",
          "Student",
          "Employee",
          "Employee",
          "Student",
          "Student",
          "Employee",
          "Student",
          "Self Employeed",
          "Employee",
          "Self Employeed",
          "Self Employeed",
          "Student",
          "Student",
          "Employee",
          "Self Employeed",
          "Employee",
          "Employee",
          "Employee",
          "Employee",
          "Student",
          "Student",
          "Employee",
          "Student",
          "Self Employeed",
          "Employee",
          "Self Employeed",
          "Self Employeed",
          "Student",
          "Student",
          "Self Employeed",
          "Employee",
          "Self Employeed",
          "Student",
          "Self Employeed",
          "Self Employeed",
          "Employee",
          "Employee",
          "Student",
          "Student",
          "Employee",
          "Student",
          "Employee",
          "Student",
          "Employee",
          "Student",
          "Self Employeed",
          "Student",
          "Employee",
          "Self Employeed",
          "Employee",
          "Employee",
          "Student",
          "Employee",
          "Student",
          "Student",
          "Student",
          "Student",
          "Student",
          "Student",
          "Student"
         ],
         "x0": " ",
         "xaxis": "x",
         "y": [
          4,
          3,
          3,
          6,
          4,
          2,
          3,
          3,
          2,
          4,
          5,
          2,
          5,
          4,
          5,
          6,
          2,
          3,
          4,
          1,
          3,
          4,
          4,
          4,
          3,
          3,
          5,
          3,
          3,
          4,
          5,
          4,
          4,
          5,
          2,
          3,
          5,
          5,
          3,
          4,
          4,
          3,
          4,
          5,
          5,
          2,
          3,
          2,
          3,
          5,
          5,
          2,
          3,
          2,
          3,
          2,
          1,
          3,
          5,
          4,
          5,
          3,
          1,
          4,
          2,
          6,
          4,
          4,
          4,
          4,
          4,
          3,
          3,
          2,
          4,
          3,
          4,
          4,
          3,
          5,
          4,
          3,
          3,
          3,
          3,
          4,
          5,
          1,
          5,
          2,
          5,
          1,
          2,
          3,
          1,
          1,
          5,
          5,
          5,
          3,
          3,
          2,
          3,
          3,
          2,
          3,
          2,
          1,
          2,
          5,
          4,
          1,
          2,
          5,
          2,
          4,
          5,
          2,
          5,
          3,
          5,
          3,
          3,
          5,
          6,
          3,
          3,
          4,
          3,
          4,
          3,
          1,
          2,
          2,
          4,
          2,
          3,
          5,
          3,
          4,
          3,
          3,
          2,
          5,
          3,
          3,
          3,
          4,
          4,
          4,
          3,
          4,
          2,
          2,
          5,
          4,
          3,
          3,
          5,
          2,
          2,
          3,
          4,
          3,
          3,
          4,
          5,
          5,
          2,
          2,
          1,
          3,
          1,
          3,
          2,
          6,
          2,
          3,
          1,
          3,
          3,
          3,
          4,
          2,
          5,
          1,
          2,
          2,
          2,
          6,
          3,
          2,
          5,
          2,
          2,
          3,
          6,
          6,
          6,
          2,
          2,
          5,
          4,
          4,
          3,
          2,
          4,
          1,
          2,
          4,
          6,
          3,
          2,
          3,
          4,
          3,
          5,
          2,
          5,
          3,
          1,
          2,
          4,
          5,
          2,
          2,
          3,
          2,
          5,
          3,
          6,
          5,
          3,
          2,
          3,
          3,
          3,
          2,
          2,
          3,
          6,
          2,
          3,
          2,
          1,
          3,
          6,
          3,
          1,
          2,
          3,
          6,
          3,
          2,
          6,
          3,
          2,
          6,
          3,
          6,
          6,
          2,
          2,
          3,
          4,
          2,
          3,
          2,
          3,
          2,
          2,
          2,
          3,
          2,
          2,
          4,
          3,
          2,
          5,
          4,
          6,
          2,
          4,
          3,
          2,
          2,
          2,
          5,
          3,
          2,
          6,
          3,
          5,
          1,
          3,
          5,
          3,
          1,
          2,
          6,
          3,
          6,
          4,
          2,
          3,
          3,
          2,
          4,
          5,
          2,
          5,
          2,
          2,
          3,
          2,
          5,
          3,
          6,
          5,
          3,
          2,
          3,
          3,
          3,
          2,
          2,
          3,
          6,
          2,
          4,
          4,
          3,
          2,
          4,
          1,
          2,
          4,
          6,
          3,
          2,
          3,
          4,
          3,
          5,
          2,
          4,
          4,
          3,
          2,
          4,
          1,
          2,
          4,
          6,
          3,
          2,
          2,
          5,
          3,
          6,
          5,
          3,
          2,
          3,
          3,
          3,
          2,
          2,
          3,
          6,
          2,
          3,
          2,
          1,
          3,
          6,
          3,
          1,
          2,
          4,
          2,
          3,
          3,
          2,
          4,
          5,
          2,
          5
         ],
         "y0": " ",
         "yaxis": "y"
        }
       ],
       "layout": {
        "autosize": true,
        "boxmode": "group",
        "legend": {
         "tracegroupgap": 0
        },
        "template": {
         "data": {
          "bar": [
           {
            "error_x": {
             "color": "#2a3f5f"
            },
            "error_y": {
             "color": "#2a3f5f"
            },
            "marker": {
             "line": {
              "color": "#E5ECF6",
              "width": 0.5
             },
             "pattern": {
              "fillmode": "overlay",
              "size": 10,
              "solidity": 0.2
             }
            },
            "type": "bar"
           }
          ],
          "barpolar": [
           {
            "marker": {
             "line": {
              "color": "#E5ECF6",
              "width": 0.5
             },
             "pattern": {
              "fillmode": "overlay",
              "size": 10,
              "solidity": 0.2
             }
            },
            "type": "barpolar"
           }
          ],
          "carpet": [
           {
            "aaxis": {
             "endlinecolor": "#2a3f5f",
             "gridcolor": "white",
             "linecolor": "white",
             "minorgridcolor": "white",
             "startlinecolor": "#2a3f5f"
            },
            "baxis": {
             "endlinecolor": "#2a3f5f",
             "gridcolor": "white",
             "linecolor": "white",
             "minorgridcolor": "white",
             "startlinecolor": "#2a3f5f"
            },
            "type": "carpet"
           }
          ],
          "choropleth": [
           {
            "colorbar": {
             "outlinewidth": 0,
             "ticks": ""
            },
            "type": "choropleth"
           }
          ],
          "contour": [
           {
            "colorbar": {
             "outlinewidth": 0,
             "ticks": ""
            },
            "colorscale": [
             [
              0,
              "#0d0887"
             ],
             [
              0.1111111111111111,
              "#46039f"
             ],
             [
              0.2222222222222222,
              "#7201a8"
             ],
             [
              0.3333333333333333,
              "#9c179e"
             ],
             [
              0.4444444444444444,
              "#bd3786"
             ],
             [
              0.5555555555555556,
              "#d8576b"
             ],
             [
              0.6666666666666666,
              "#ed7953"
             ],
             [
              0.7777777777777778,
              "#fb9f3a"
             ],
             [
              0.8888888888888888,
              "#fdca26"
             ],
             [
              1,
              "#f0f921"
             ]
            ],
            "type": "contour"
           }
          ],
          "contourcarpet": [
           {
            "colorbar": {
             "outlinewidth": 0,
             "ticks": ""
            },
            "type": "contourcarpet"
           }
          ],
          "heatmap": [
           {
            "colorbar": {
             "outlinewidth": 0,
             "ticks": ""
            },
            "colorscale": [
             [
              0,
              "#0d0887"
             ],
             [
              0.1111111111111111,
              "#46039f"
             ],
             [
              0.2222222222222222,
              "#7201a8"
             ],
             [
              0.3333333333333333,
              "#9c179e"
             ],
             [
              0.4444444444444444,
              "#bd3786"
             ],
             [
              0.5555555555555556,
              "#d8576b"
             ],
             [
              0.6666666666666666,
              "#ed7953"
             ],
             [
              0.7777777777777778,
              "#fb9f3a"
             ],
             [
              0.8888888888888888,
              "#fdca26"
             ],
             [
              1,
              "#f0f921"
             ]
            ],
            "type": "heatmap"
           }
          ],
          "heatmapgl": [
           {
            "colorbar": {
             "outlinewidth": 0,
             "ticks": ""
            },
            "colorscale": [
             [
              0,
              "#0d0887"
             ],
             [
              0.1111111111111111,
              "#46039f"
             ],
             [
              0.2222222222222222,
              "#7201a8"
             ],
             [
              0.3333333333333333,
              "#9c179e"
             ],
             [
              0.4444444444444444,
              "#bd3786"
             ],
             [
              0.5555555555555556,
              "#d8576b"
             ],
             [
              0.6666666666666666,
              "#ed7953"
             ],
             [
              0.7777777777777778,
              "#fb9f3a"
             ],
             [
              0.8888888888888888,
              "#fdca26"
             ],
             [
              1,
              "#f0f921"
             ]
            ],
            "type": "heatmapgl"
           }
          ],
          "histogram": [
           {
            "marker": {
             "pattern": {
              "fillmode": "overlay",
              "size": 10,
              "solidity": 0.2
             }
            },
            "type": "histogram"
           }
          ],
          "histogram2d": [
           {
            "colorbar": {
             "outlinewidth": 0,
             "ticks": ""
            },
            "colorscale": [
             [
              0,
              "#0d0887"
             ],
             [
              0.1111111111111111,
              "#46039f"
             ],
             [
              0.2222222222222222,
              "#7201a8"
             ],
             [
              0.3333333333333333,
              "#9c179e"
             ],
             [
              0.4444444444444444,
              "#bd3786"
             ],
             [
              0.5555555555555556,
              "#d8576b"
             ],
             [
              0.6666666666666666,
              "#ed7953"
             ],
             [
              0.7777777777777778,
              "#fb9f3a"
             ],
             [
              0.8888888888888888,
              "#fdca26"
             ],
             [
              1,
              "#f0f921"
             ]
            ],
            "type": "histogram2d"
           }
          ],
          "histogram2dcontour": [
           {
            "colorbar": {
             "outlinewidth": 0,
             "ticks": ""
            },
            "colorscale": [
             [
              0,
              "#0d0887"
             ],
             [
              0.1111111111111111,
              "#46039f"
             ],
             [
              0.2222222222222222,
              "#7201a8"
             ],
             [
              0.3333333333333333,
              "#9c179e"
             ],
             [
              0.4444444444444444,
              "#bd3786"
             ],
             [
              0.5555555555555556,
              "#d8576b"
             ],
             [
              0.6666666666666666,
              "#ed7953"
             ],
             [
              0.7777777777777778,
              "#fb9f3a"
             ],
             [
              0.8888888888888888,
              "#fdca26"
             ],
             [
              1,
              "#f0f921"
             ]
            ],
            "type": "histogram2dcontour"
           }
          ],
          "mesh3d": [
           {
            "colorbar": {
             "outlinewidth": 0,
             "ticks": ""
            },
            "type": "mesh3d"
           }
          ],
          "parcoords": [
           {
            "line": {
             "colorbar": {
              "outlinewidth": 0,
              "ticks": ""
             }
            },
            "type": "parcoords"
           }
          ],
          "pie": [
           {
            "automargin": true,
            "type": "pie"
           }
          ],
          "scatter": [
           {
            "fillpattern": {
             "fillmode": "overlay",
             "size": 10,
             "solidity": 0.2
            },
            "type": "scatter"
           }
          ],
          "scatter3d": [
           {
            "line": {
             "colorbar": {
              "outlinewidth": 0,
              "ticks": ""
             }
            },
            "marker": {
             "colorbar": {
              "outlinewidth": 0,
              "ticks": ""
             }
            },
            "type": "scatter3d"
           }
          ],
          "scattercarpet": [
           {
            "marker": {
             "colorbar": {
              "outlinewidth": 0,
              "ticks": ""
             }
            },
            "type": "scattercarpet"
           }
          ],
          "scattergeo": [
           {
            "marker": {
             "colorbar": {
              "outlinewidth": 0,
              "ticks": ""
             }
            },
            "type": "scattergeo"
           }
          ],
          "scattergl": [
           {
            "marker": {
             "colorbar": {
              "outlinewidth": 0,
              "ticks": ""
             }
            },
            "type": "scattergl"
           }
          ],
          "scattermapbox": [
           {
            "marker": {
             "colorbar": {
              "outlinewidth": 0,
              "ticks": ""
             }
            },
            "type": "scattermapbox"
           }
          ],
          "scatterpolar": [
           {
            "marker": {
             "colorbar": {
              "outlinewidth": 0,
              "ticks": ""
             }
            },
            "type": "scatterpolar"
           }
          ],
          "scatterpolargl": [
           {
            "marker": {
             "colorbar": {
              "outlinewidth": 0,
              "ticks": ""
             }
            },
            "type": "scatterpolargl"
           }
          ],
          "scatterternary": [
           {
            "marker": {
             "colorbar": {
              "outlinewidth": 0,
              "ticks": ""
             }
            },
            "type": "scatterternary"
           }
          ],
          "surface": [
           {
            "colorbar": {
             "outlinewidth": 0,
             "ticks": ""
            },
            "colorscale": [
             [
              0,
              "#0d0887"
             ],
             [
              0.1111111111111111,
              "#46039f"
             ],
             [
              0.2222222222222222,
              "#7201a8"
             ],
             [
              0.3333333333333333,
              "#9c179e"
             ],
             [
              0.4444444444444444,
              "#bd3786"
             ],
             [
              0.5555555555555556,
              "#d8576b"
             ],
             [
              0.6666666666666666,
              "#ed7953"
             ],
             [
              0.7777777777777778,
              "#fb9f3a"
             ],
             [
              0.8888888888888888,
              "#fdca26"
             ],
             [
              1,
              "#f0f921"
             ]
            ],
            "type": "surface"
           }
          ],
          "table": [
           {
            "cells": {
             "fill": {
              "color": "#EBF0F8"
             },
             "line": {
              "color": "white"
             }
            },
            "header": {
             "fill": {
              "color": "#C8D4E3"
             },
             "line": {
              "color": "white"
             }
            },
            "type": "table"
           }
          ]
         },
         "layout": {
          "annotationdefaults": {
           "arrowcolor": "#2a3f5f",
           "arrowhead": 0,
           "arrowwidth": 1
          },
          "autotypenumbers": "strict",
          "coloraxis": {
           "colorbar": {
            "outlinewidth": 0,
            "ticks": ""
           }
          },
          "colorscale": {
           "diverging": [
            [
             0,
             "#8e0152"
            ],
            [
             0.1,
             "#c51b7d"
            ],
            [
             0.2,
             "#de77ae"
            ],
            [
             0.3,
             "#f1b6da"
            ],
            [
             0.4,
             "#fde0ef"
            ],
            [
             0.5,
             "#f7f7f7"
            ],
            [
             0.6,
             "#e6f5d0"
            ],
            [
             0.7,
             "#b8e186"
            ],
            [
             0.8,
             "#7fbc41"
            ],
            [
             0.9,
             "#4d9221"
            ],
            [
             1,
             "#276419"
            ]
           ],
           "sequential": [
            [
             0,
             "#0d0887"
            ],
            [
             0.1111111111111111,
             "#46039f"
            ],
            [
             0.2222222222222222,
             "#7201a8"
            ],
            [
             0.3333333333333333,
             "#9c179e"
            ],
            [
             0.4444444444444444,
             "#bd3786"
            ],
            [
             0.5555555555555556,
             "#d8576b"
            ],
            [
             0.6666666666666666,
             "#ed7953"
            ],
            [
             0.7777777777777778,
             "#fb9f3a"
            ],
            [
             0.8888888888888888,
             "#fdca26"
            ],
            [
             1,
             "#f0f921"
            ]
           ],
           "sequentialminus": [
            [
             0,
             "#0d0887"
            ],
            [
             0.1111111111111111,
             "#46039f"
            ],
            [
             0.2222222222222222,
             "#7201a8"
            ],
            [
             0.3333333333333333,
             "#9c179e"
            ],
            [
             0.4444444444444444,
             "#bd3786"
            ],
            [
             0.5555555555555556,
             "#d8576b"
            ],
            [
             0.6666666666666666,
             "#ed7953"
            ],
            [
             0.7777777777777778,
             "#fb9f3a"
            ],
            [
             0.8888888888888888,
             "#fdca26"
            ],
            [
             1,
             "#f0f921"
            ]
           ]
          },
          "colorway": [
           "#636efa",
           "#EF553B",
           "#00cc96",
           "#ab63fa",
           "#FFA15A",
           "#19d3f3",
           "#FF6692",
           "#B6E880",
           "#FF97FF",
           "#FECB52"
          ],
          "font": {
           "color": "#2a3f5f"
          },
          "geo": {
           "bgcolor": "white",
           "lakecolor": "white",
           "landcolor": "#E5ECF6",
           "showlakes": true,
           "showland": true,
           "subunitcolor": "white"
          },
          "hoverlabel": {
           "align": "left"
          },
          "hovermode": "closest",
          "mapbox": {
           "style": "light"
          },
          "paper_bgcolor": "white",
          "plot_bgcolor": "#E5ECF6",
          "polar": {
           "angularaxis": {
            "gridcolor": "white",
            "linecolor": "white",
            "ticks": ""
           },
           "bgcolor": "#E5ECF6",
           "radialaxis": {
            "gridcolor": "white",
            "linecolor": "white",
            "ticks": ""
           }
          },
          "scene": {
           "xaxis": {
            "backgroundcolor": "#E5ECF6",
            "gridcolor": "white",
            "gridwidth": 2,
            "linecolor": "white",
            "showbackground": true,
            "ticks": "",
            "zerolinecolor": "white"
           },
           "yaxis": {
            "backgroundcolor": "#E5ECF6",
            "gridcolor": "white",
            "gridwidth": 2,
            "linecolor": "white",
            "showbackground": true,
            "ticks": "",
            "zerolinecolor": "white"
           },
           "zaxis": {
            "backgroundcolor": "#E5ECF6",
            "gridcolor": "white",
            "gridwidth": 2,
            "linecolor": "white",
            "showbackground": true,
            "ticks": "",
            "zerolinecolor": "white"
           }
          },
          "shapedefaults": {
           "line": {
            "color": "#2a3f5f"
           }
          },
          "ternary": {
           "aaxis": {
            "gridcolor": "white",
            "linecolor": "white",
            "ticks": ""
           },
           "baxis": {
            "gridcolor": "white",
            "linecolor": "white",
            "ticks": ""
           },
           "bgcolor": "#E5ECF6",
           "caxis": {
            "gridcolor": "white",
            "linecolor": "white",
            "ticks": ""
           }
          },
          "title": {
           "x": 0.05
          },
          "xaxis": {
           "automargin": true,
           "gridcolor": "white",
           "linecolor": "white",
           "ticks": "",
           "title": {
            "standoff": 15
           },
           "zerolinecolor": "white",
           "zerolinewidth": 2
          },
          "yaxis": {
           "automargin": true,
           "gridcolor": "white",
           "linecolor": "white",
           "ticks": "",
           "title": {
            "standoff": 15
           },
           "zerolinecolor": "white",
           "zerolinewidth": 2
          }
         }
        },
        "title": {
         "text": "Age Distribution by Occupation"
        },
        "xaxis": {
         "anchor": "y",
         "autorange": true,
         "domain": [
          0,
          1
         ],
         "range": [
          -0.5,
          3.5
         ],
         "title": {
          "text": "Occupation"
         },
         "type": "category"
        },
        "yaxis": {
         "anchor": "x",
         "autorange": true,
         "domain": [
          0,
          1
         ],
         "range": [
          0.7222222222222222,
          6.277777777777778
         ],
         "title": {
          "text": "Family size"
         },
         "type": "linear"
        }
       }
      },
      "image/png": "[encoded data removed]",
      "text/html": [
       "<div>                            <div id=\"de8a9557-9c3f-4c06-adc4-010bbe974d1c\" class=\"plotly-graph-div\" style=\"height:525px; width:100%;\"></div>            <script type=\"text/javascript\">                require([\"plotly\"], function(Plotly) {                    window.PLOTLYENV=window.PLOTLYENV || {};                                    if (document.getElementById(\"de8a9557-9c3f-4c06-adc4-010bbe974d1c\")) {                    Plotly.newPlot(                        \"de8a9557-9c3f-4c06-adc4-010bbe974d1c\",                        [{\"alignmentgroup\":\"True\",\"hovertemplate\":\"Occupation=%{x}<br>Family size=%{y}<extra></extra>\",\"legendgroup\":\"\",\"marker\":{\"color\":\"#636efa\"},\"name\":\"\",\"notched\":false,\"offsetgroup\":\"\",\"orientation\":\"v\",\"showlegend\":false,\"x\":[\"Student\",\"Student\",\"Student\",\"Student\",\"Student\",\"Employee\",\"Student\",\"Student\",\"Student\",\"Student\",\"Student\",\"Student\",\"Student\",\"Student\",\"Self Employeed\",\"Student\",\"Employee\",\"Student\",\"Student\",\"Student\",\"Student\",\"Student\",\"Student\",\"Student\",\"Student\",\"Student\",\"Student\",\"Student\",\"Employee\",\"Student\",\"Employee\",\"Student\",\"Employee\",\"Student\",\"Student\",\"Student\",\"Student\",\"House wife\",\"Student\",\"Student\",\"Self Employeed\",\"Student\",\"Student\",\"Student\",\"Student\",\"Self Employeed\",\"Student\",\"Student\",\"Student\",\"Student\",\"Student\",\"Student\",\"Student\",\"Student\",\"Student\",\"Student\",\"Student\",\"Student\",\"Employee\",\"Student\",\"Student\",\"Student\",\"Student\",\"Student\",\"Student\",\"Student\",\"Employee\",\"Student\",\"Student\",\"Employee\",\"Student\",\"Student\",\"Student\",\"Student\",\"Student\",\"Student\",\"Student\",\"Student\",\"Student\",\"Student\",\"Student\",\"Student\",\"Student\",\"Student\",\"Student\",\"Student\",\"Student\",\"Student\",\"Student\",\"Self Employeed\",\"Employee\",\"Self Employeed\",\"Student\",\"Student\",\"Student\",\"Student\",\"Student\",\"Student\",\"Employee\",\"House wife\",\"Student\",\"Student\",\"Employee\",\"Student\",\"Employee\",\"Employee\",\"Employee\",\"Student\",\"Employee\",\"Student\",\"Student\",\"Student\",\"Student\",\"Student\",\"Employee\",\"Employee\",\"House wife\",\"Self Employeed\",\"Employee\",\"Employee\",\"Self Employeed\",\"Self Employeed\",\"Self Employeed\",\"Employee\",\"Self Employeed\",\"Self Employeed\",\"Student\",\"Student\",\"Student\",\"Student\",\"Employee\",\"Employee\",\"Student\",\"Student\",\"Student\",\"Employee\",\"Self Employeed\",\"Employee\",\"Employee\",\"Student\",\"Student\",\"Student\",\"Employee\",\"House wife\",\"Student\",\"Employee\",\"Student\",\"Student\",\"Employee\",\"Student\",\"Student\",\"Student\",\"Student\",\"Student\",\"Self Employeed\",\"Student\",\"Employee\",\"House wife\",\"Employee\",\"Student\",\"Student\",\"Employee\",\"Employee\",\"Employee\",\"Employee\",\"Employee\",\"Student\",\"Student\",\"Self Employeed\",\"Student\",\"Student\",\"Student\",\"Employee\",\"Student\",\"Employee\",\"Employee\",\"Student\",\"Self Employeed\",\"Employee\",\"Self Employeed\",\"Employee\",\"Student\",\"Employee\",\"Student\",\"House wife\",\"Employee\",\"Student\",\"Employee\",\"Employee\",\"Self Employeed\",\"Student\",\"Employee\",\"Employee\",\"Employee\",\"Self Employeed\",\"Student\",\"Student\",\"Employee\",\"House wife\",\"Student\",\"Student\",\"Student\",\"Employee\",\"Employee\",\"Student\",\"Student\",\"Employee\",\"Student\",\"Self Employeed\",\"Employee\",\"Self Employeed\",\"Self Employeed\",\"Student\",\"Student\",\"Employee\",\"Self Employeed\",\"Employee\",\"Employee\",\"House wife\",\"Self Employeed\",\"Student\",\"Student\",\"Employee\",\"Employee\",\"Student\",\"Self Employeed\",\"Student\",\"Student\",\"Self Employeed\",\"Employee\",\"Self Employeed\",\"Student\",\"Self Employeed\",\"Self Employeed\",\"Employee\",\"Employee\",\"Student\",\"Student\",\"Employee\",\"Student\",\"Employee\",\"Student\",\"Employee\",\"Student\",\"Self Employeed\",\"Student\",\"Employee\",\"Self Employeed\",\"Employee\",\"Employee\",\"Employee\",\"Student\",\"Student\",\"Employee\",\"House wife\",\"Self Employeed\",\"Student\",\"Self Employeed\",\"Student\",\"Employee\",\"Self Employeed\",\"Employee\",\"Student\",\"Employee\",\"Self Employeed\",\"Employee\",\"Employee\",\"Employee\",\"Student\",\"Employee\",\"Employee\",\"Employee\",\"Self Employeed\",\"Employee\",\"Student\",\"Student\",\"Employee\",\"Student\",\"Employee\",\"Employee\",\"Student\",\"Student\",\"Student\",\"Employee\",\"Employee\",\"Student\",\"Student\",\"Employee\",\"Student\",\"Student\",\"Self Employeed\",\"Employee\",\"Student\",\"Employee\",\"Employee\",\"Student\",\"Student\",\"Employee\",\"Employee\",\"Employee\",\"Student\",\"Student\",\"Student\",\"Employee\",\"Student\",\"Student\",\"Student\",\"Student\",\"Student\",\"Student\",\"Employee\",\"Student\",\"Self Employeed\",\"Student\",\"Student\",\"Self Employeed\",\"Employee\",\"Self Employeed\",\"Student\",\"Self Employeed\",\"Self Employeed\",\"Employee\",\"Employee\",\"Student\",\"Student\",\"Employee\",\"Student\",\"Employee\",\"Student\",\"Employee\",\"Employee\",\"Student\",\"Student\",\"Employee\",\"Student\",\"Self Employeed\",\"Employee\",\"Self Employeed\",\"Self Employeed\",\"Student\",\"Student\",\"Employee\",\"Self Employeed\",\"Employee\",\"Employee\",\"Employee\",\"Employee\",\"Student\",\"Student\",\"Employee\",\"Student\",\"Self Employeed\",\"Employee\",\"Self Employeed\",\"Self Employeed\",\"Student\",\"Student\",\"Self Employeed\",\"Employee\",\"Self Employeed\",\"Student\",\"Self Employeed\",\"Self Employeed\",\"Employee\",\"Employee\",\"Student\",\"Student\",\"Employee\",\"Student\",\"Employee\",\"Student\",\"Employee\",\"Student\",\"Self Employeed\",\"Student\",\"Employee\",\"Self Employeed\",\"Employee\",\"Employee\",\"Student\",\"Employee\",\"Student\",\"Student\",\"Student\",\"Student\",\"Student\",\"Student\",\"Student\"],\"x0\":\" \",\"xaxis\":\"x\",\"y\":[4,3,3,6,4,2,3,3,2,4,5,2,5,4,5,6,2,3,4,1,3,4,4,4,3,3,5,3,3,4,5,4,4,5,2,3,5,5,3,4,4,3,4,5,5,2,3,2,3,5,5,2,3,2,3,2,1,3,5,4,5,3,1,4,2,6,4,4,4,4,4,3,3,2,4,3,4,4,3,5,4,3,3,3,3,4,5,1,5,2,5,1,2,3,1,1,5,5,5,3,3,2,3,3,2,3,2,1,2,5,4,1,2,5,2,4,5,2,5,3,5,3,3,5,6,3,3,4,3,4,3,1,2,2,4,2,3,5,3,4,3,3,2,5,3,3,3,4,4,4,3,4,2,2,5,4,3,3,5,2,2,3,4,3,3,4,5,5,2,2,1,3,1,3,2,6,2,3,1,3,3,3,4,2,5,1,2,2,2,6,3,2,5,2,2,3,6,6,6,2,2,5,4,4,3,2,4,1,2,4,6,3,2,3,4,3,5,2,5,3,1,2,4,5,2,2,3,2,5,3,6,5,3,2,3,3,3,2,2,3,6,2,3,2,1,3,6,3,1,2,3,6,3,2,6,3,2,6,3,6,6,2,2,3,4,2,3,2,3,2,2,2,3,2,2,4,3,2,5,4,6,2,4,3,2,2,2,5,3,2,6,3,5,1,3,5,3,1,2,6,3,6,4,2,3,3,2,4,5,2,5,2,2,3,2,5,3,6,5,3,2,3,3,3,2,2,3,6,2,4,4,3,2,4,1,2,4,6,3,2,3,4,3,5,2,4,4,3,2,4,1,2,4,6,3,2,2,5,3,6,5,3,2,3,3,3,2,2,3,6,2,3,2,1,3,6,3,1,2,4,2,3,3,2,4,5,2,5],\"y0\":\" \",\"yaxis\":\"y\",\"type\":\"box\"}],                        {\"template\":{\"data\":{\"histogram2dcontour\":[{\"type\":\"histogram2dcontour\",\"colorbar\":{\"outlinewidth\":0,\"ticks\":\"\"},\"colorscale\":[[0.0,\"#0d0887\"],[0.1111111111111111,\"#46039f\"],[0.2222222222222222,\"#7201a8\"],[0.3333333333333333,\"#9c179e\"],[0.4444444444444444,\"#bd3786\"],[0.5555555555555556,\"#d8576b\"],[0.6666666666666666,\"#ed7953\"],[0.7777777777777778,\"#fb9f3a\"],[0.8888888888888888,\"#fdca26\"],[1.0,\"#f0f921\"]]}],\"choropleth\":[{\"type\":\"choropleth\",\"colorbar\":{\"outlinewidth\":0,\"ticks\":\"\"}}],\"histogram2d\":[{\"type\":\"histogram2d\",\"colorbar\":{\"outlinewidth\":0,\"ticks\":\"\"},\"colorscale\":[[0.0,\"#0d0887\"],[0.1111111111111111,\"#46039f\"],[0.2222222222222222,\"#7201a8\"],[0.3333333333333333,\"#9c179e\"],[0.4444444444444444,\"#bd3786\"],[0.5555555555555556,\"#d8576b\"],[0.6666666666666666,\"#ed7953\"],[0.7777777777777778,\"#fb9f3a\"],[0.8888888888888888,\"#fdca26\"],[1.0,\"#f0f921\"]]}],\"heatmap\":[{\"type\":\"heatmap\",\"colorbar\":{\"outlinewidth\":0,\"ticks\":\"\"},\"colorscale\":[[0.0,\"#0d0887\"],[0.1111111111111111,\"#46039f\"],[0.2222222222222222,\"#7201a8\"],[0.3333333333333333,\"#9c179e\"],[0.4444444444444444,\"#bd3786\"],[0.5555555555555556,\"#d8576b\"],[0.6666666666666666,\"#ed7953\"],[0.7777777777777778,\"#fb9f3a\"],[0.8888888888888888,\"#fdca26\"],[1.0,\"#f0f921\"]]}],\"heatmapgl\":[{\"type\":\"heatmapgl\",\"colorbar\":{\"outlinewidth\":0,\"ticks\":\"\"},\"colorscale\":[[0.0,\"#0d0887\"],[0.1111111111111111,\"#46039f\"],[0.2222222222222222,\"#7201a8\"],[0.3333333333333333,\"#9c179e\"],[0.4444444444444444,\"#bd3786\"],[0.5555555555555556,\"#d8576b\"],[0.6666666666666666,\"#ed7953\"],[0.7777777777777778,\"#fb9f3a\"],[0.8888888888888888,\"#fdca26\"],[1.0,\"#f0f921\"]]}],\"contourcarpet\":[{\"type\":\"contourcarpet\",\"colorbar\":{\"outlinewidth\":0,\"ticks\":\"\"}}],\"contour\":[{\"type\":\"contour\",\"colorbar\":{\"outlinewidth\":0,\"ticks\":\"\"},\"colorscale\":[[0.0,\"#0d0887\"],[0.1111111111111111,\"#46039f\"],[0.2222222222222222,\"#7201a8\"],[0.3333333333333333,\"#9c179e\"],[0.4444444444444444,\"#bd3786\"],[0.5555555555555556,\"#d8576b\"],[0.6666666666666666,\"#ed7953\"],[0.7777777777777778,\"#fb9f3a\"],[0.8888888888888888,\"#fdca26\"],[1.0,\"#f0f921\"]]}],\"surface\":[{\"type\":\"surface\",\"colorbar\":{\"outlinewidth\":0,\"ticks\":\"\"},\"colorscale\":[[0.0,\"#0d0887\"],[0.1111111111111111,\"#46039f\"],[0.2222222222222222,\"#7201a8\"],[0.3333333333333333,\"#9c179e\"],[0.4444444444444444,\"#bd3786\"],[0.5555555555555556,\"#d8576b\"],[0.6666666666666666,\"#ed7953\"],[0.7777777777777778,\"#fb9f3a\"],[0.8888888888888888,\"#fdca26\"],[1.0,\"#f0f921\"]]}],\"mesh3d\":[{\"type\":\"mesh3d\",\"colorbar\":{\"outlinewidth\":0,\"ticks\":\"\"}}],\"scatter\":[{\"fillpattern\":{\"fillmode\":\"overlay\",\"size\":10,\"solidity\":0.2},\"type\":\"scatter\"}],\"parcoords\":[{\"type\":\"parcoords\",\"line\":{\"colorbar\":{\"outlinewidth\":0,\"ticks\":\"\"}}}],\"scatterpolargl\":[{\"type\":\"scatterpolargl\",\"marker\":{\"colorbar\":{\"outlinewidth\":0,\"ticks\":\"\"}}}],\"bar\":[{\"error_x\":{\"color\":\"#2a3f5f\"},\"error_y\":{\"color\":\"#2a3f5f\"},\"marker\":{\"line\":{\"color\":\"#E5ECF6\",\"width\":0.5},\"pattern\":{\"fillmode\":\"overlay\",\"size\":10,\"solidity\":0.2}},\"type\":\"bar\"}],\"scattergeo\":[{\"type\":\"scattergeo\",\"marker\":{\"colorbar\":{\"outlinewidth\":0,\"ticks\":\"\"}}}],\"scatterpolar\":[{\"type\":\"scatterpolar\",\"marker\":{\"colorbar\":{\"outlinewidth\":0,\"ticks\":\"\"}}}],\"histogram\":[{\"marker\":{\"pattern\":{\"fillmode\":\"overlay\",\"size\":10,\"solidity\":0.2}},\"type\":\"histogram\"}],\"scattergl\":[{\"type\":\"scattergl\",\"marker\":{\"colorbar\":{\"outlinewidth\":0,\"ticks\":\"\"}}}],\"scatter3d\":[{\"type\":\"scatter3d\",\"line\":{\"colorbar\":{\"outlinewidth\":0,\"ticks\":\"\"}},\"marker\":{\"colorbar\":{\"outlinewidth\":0,\"ticks\":\"\"}}}],\"scattermapbox\":[{\"type\":\"scattermapbox\",\"marker\":{\"colorbar\":{\"outlinewidth\":0,\"ticks\":\"\"}}}],\"scatterternary\":[{\"type\":\"scatterternary\",\"marker\":{\"colorbar\":{\"outlinewidth\":0,\"ticks\":\"\"}}}],\"scattercarpet\":[{\"type\":\"scattercarpet\",\"marker\":{\"colorbar\":{\"outlinewidth\":0,\"ticks\":\"\"}}}],\"carpet\":[{\"aaxis\":{\"endlinecolor\":\"#2a3f5f\",\"gridcolor\":\"white\",\"linecolor\":\"white\",\"minorgridcolor\":\"white\",\"startlinecolor\":\"#2a3f5f\"},\"baxis\":{\"endlinecolor\":\"#2a3f5f\",\"gridcolor\":\"white\",\"linecolor\":\"white\",\"minorgridcolor\":\"white\",\"startlinecolor\":\"#2a3f5f\"},\"type\":\"carpet\"}],\"table\":[{\"cells\":{\"fill\":{\"color\":\"#EBF0F8\"},\"line\":{\"color\":\"white\"}},\"header\":{\"fill\":{\"color\":\"#C8D4E3\"},\"line\":{\"color\":\"white\"}},\"type\":\"table\"}],\"barpolar\":[{\"marker\":{\"line\":{\"color\":\"#E5ECF6\",\"width\":0.5},\"pattern\":{\"fillmode\":\"overlay\",\"size\":10,\"solidity\":0.2}},\"type\":\"barpolar\"}],\"pie\":[{\"automargin\":true,\"type\":\"pie\"}]},\"layout\":{\"autotypenumbers\":\"strict\",\"colorway\":[\"#636efa\",\"#EF553B\",\"#00cc96\",\"#ab63fa\",\"#FFA15A\",\"#19d3f3\",\"#FF6692\",\"#B6E880\",\"#FF97FF\",\"#FECB52\"],\"font\":{\"color\":\"#2a3f5f\"},\"hovermode\":\"closest\",\"hoverlabel\":{\"align\":\"left\"},\"paper_bgcolor\":\"white\",\"plot_bgcolor\":\"#E5ECF6\",\"polar\":{\"bgcolor\":\"#E5ECF6\",\"angularaxis\":{\"gridcolor\":\"white\",\"linecolor\":\"white\",\"ticks\":\"\"},\"radialaxis\":{\"gridcolor\":\"white\",\"linecolor\":\"white\",\"ticks\":\"\"}},\"ternary\":{\"bgcolor\":\"#E5ECF6\",\"aaxis\":{\"gridcolor\":\"white\",\"linecolor\":\"white\",\"ticks\":\"\"},\"baxis\":{\"gridcolor\":\"white\",\"linecolor\":\"white\",\"ticks\":\"\"},\"caxis\":{\"gridcolor\":\"white\",\"linecolor\":\"white\",\"ticks\":\"\"}},\"coloraxis\":{\"colorbar\":{\"outlinewidth\":0,\"ticks\":\"\"}},\"colorscale\":{\"sequential\":[[0.0,\"#0d0887\"],[0.1111111111111111,\"#46039f\"],[0.2222222222222222,\"#7201a8\"],[0.3333333333333333,\"#9c179e\"],[0.4444444444444444,\"#bd3786\"],[0.5555555555555556,\"#d8576b\"],[0.6666666666666666,\"#ed7953\"],[0.7777777777777778,\"#fb9f3a\"],[0.8888888888888888,\"#fdca26\"],[1.0,\"#f0f921\"]],\"sequentialminus\":[[0.0,\"#0d0887\"],[0.1111111111111111,\"#46039f\"],[0.2222222222222222,\"#7201a8\"],[0.3333333333333333,\"#9c179e\"],[0.4444444444444444,\"#bd3786\"],[0.5555555555555556,\"#d8576b\"],[0.6666666666666666,\"#ed7953\"],[0.7777777777777778,\"#fb9f3a\"],[0.8888888888888888,\"#fdca26\"],[1.0,\"#f0f921\"]],\"diverging\":[[0,\"#8e0152\"],[0.1,\"#c51b7d\"],[0.2,\"#de77ae\"],[0.3,\"#f1b6da\"],[0.4,\"#fde0ef\"],[0.5,\"#f7f7f7\"],[0.6,\"#e6f5d0\"],[0.7,\"#b8e186\"],[0.8,\"#7fbc41\"],[0.9,\"#4d9221\"],[1,\"#276419\"]]},\"xaxis\":{\"gridcolor\":\"white\",\"linecolor\":\"white\",\"ticks\":\"\",\"title\":{\"standoff\":15},\"zerolinecolor\":\"white\",\"automargin\":true,\"zerolinewidth\":2},\"yaxis\":{\"gridcolor\":\"white\",\"linecolor\":\"white\",\"ticks\":\"\",\"title\":{\"standoff\":15},\"zerolinecolor\":\"white\",\"automargin\":true,\"zerolinewidth\":2},\"scene\":{\"xaxis\":{\"backgroundcolor\":\"#E5ECF6\",\"gridcolor\":\"white\",\"linecolor\":\"white\",\"showbackground\":true,\"ticks\":\"\",\"zerolinecolor\":\"white\",\"gridwidth\":2},\"yaxis\":{\"backgroundcolor\":\"#E5ECF6\",\"gridcolor\":\"white\",\"linecolor\":\"white\",\"showbackground\":true,\"ticks\":\"\",\"zerolinecolor\":\"white\",\"gridwidth\":2},\"zaxis\":{\"backgroundcolor\":\"#E5ECF6\",\"gridcolor\":\"white\",\"linecolor\":\"white\",\"showbackground\":true,\"ticks\":\"\",\"zerolinecolor\":\"white\",\"gridwidth\":2}},\"shapedefaults\":{\"line\":{\"color\":\"#2a3f5f\"}},\"annotationdefaults\":{\"arrowcolor\":\"#2a3f5f\",\"arrowhead\":0,\"arrowwidth\":1},\"geo\":{\"bgcolor\":\"white\",\"landcolor\":\"#E5ECF6\",\"subunitcolor\":\"white\",\"showland\":true,\"showlakes\":true,\"lakecolor\":\"white\"},\"title\":{\"x\":0.05},\"mapbox\":{\"style\":\"light\"}}},\"xaxis\":{\"anchor\":\"y\",\"domain\":[0.0,1.0],\"title\":{\"text\":\"Occupation\"}},\"yaxis\":{\"anchor\":\"x\",\"domain\":[0.0,1.0],\"title\":{\"text\":\"Family size\"}},\"legend\":{\"tracegroupgap\":0},\"title\":{\"text\":\"Age Distribution by Occupation\"},\"boxmode\":\"group\"},                        {\"responsive\": true}                    ).then(function(){\n",
       "                            \n",
       "var gd = document.getElementById('de8a9557-9c3f-4c06-adc4-010bbe974d1c');\n",
       "var x = new MutationObserver(function (mutations, observer) {{\n",
       "        var display = window.getComputedStyle(gd).display;\n",
       "        if (!display || display === 'none') {{\n",
       "            console.log([gd, 'removed!']);\n",
       "            Plotly.purge(gd);\n",
       "            observer.disconnect();\n",
       "        }}\n",
       "}});\n",
       "\n",
       "// Listen for the removal of the full notebook cells\n",
       "var notebookContainer = gd.closest('#notebook-container');\n",
       "if (notebookContainer) {{\n",
       "    x.observe(notebookContainer, {childList: true});\n",
       "}}\n",
       "\n",
       "// Listen for the clearing of the current output cell\n",
       "var outputEl = gd.closest('.output');\n",
       "if (outputEl) {{\n",
       "    x.observe(outputEl, {childList: true});\n",
       "}}\n",
       "\n",
       "                        })                };                });            </script>        </div>"
      ]
     },
     "metadata": {},
     "output_type": "display_data"
    }
   ],
   "source": [
    "# 10. What is the distribution of family size across different occupations?\n",
    "\n",
    "import plotly.express as px\n",
    "\n",
    "fig = px.box(zon, x=\"Occupation\", y=\"Family size\", title=\"Age Distribution by Occupation\")\n",
    "fig.show()\n"
   ]
  }
 ],
 "metadata": {
  "kernelspec": {
   "display_name": "Python 3 (ipykernel)",
   "language": "python",
   "name": "python3"
  },
  "language_info": {
   "codemirror_mode": {
    "name": "ipython",
    "version": 3
   },
   "file_extension": ".py",
   "mimetype": "text/x-python",
   "name": "python",
   "nbconvert_exporter": "python",
   "pygments_lexer": "ipython3",
   "version": "3.11.7"
  }
 },
 "nbformat": 4,
 "nbformat_minor": 5
}
